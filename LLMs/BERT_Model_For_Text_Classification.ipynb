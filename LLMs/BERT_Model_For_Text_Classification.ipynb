{
  "cells": [
    {
      "cell_type": "markdown",
      "metadata": {
        "id": "view-in-github",
        "colab_type": "text"
      },
      "source": [
        "<a href=\"https://colab.research.google.com/github/Shashank1202/NLP-Transformers/blob/main/BERT_Model_For_Text_Classification.ipynb\" target=\"_parent\"><img src=\"https://colab.research.google.com/assets/colab-badge.svg\" alt=\"Open In Colab\"/></a>"
      ]
    },
    {
      "cell_type": "code",
      "execution_count": null,
      "metadata": {
        "id": "sdAW49QVDdRd"
      },
      "outputs": [],
      "source": [
        "import tensorflow as tf\n",
        "import tensorflow_hub as hub\n",
        "import tensorflow_text as text"
      ]
    },
    {
      "cell_type": "code",
      "execution_count": null,
      "metadata": {
        "id": "EsHBpnnYDfkk"
      },
      "outputs": [],
      "source": [
        "import pandas as pd\n",
        "\n",
        "df = pd.read_csv(\"spam.csv\", encoding='latin-1')\n",
        "df.head(5)"
      ]
    },
    {
      "cell_type": "code",
      "execution_count": null,
      "metadata": {
        "id": "vxLDN379DiXv"
      },
      "outputs": [],
      "source": [
        "df=df.drop(['Unnamed: 2', 'Unnamed: 3', 'Unnamed: 4'], axis=1)"
      ]
    },
    {
      "cell_type": "code",
      "execution_count": null,
      "metadata": {
        "id": "SPoH0MUEEswM"
      },
      "outputs": [],
      "source": [
        "df.head()"
      ]
    },
    {
      "cell_type": "code",
      "execution_count": null,
      "metadata": {
        "id": "LoysqVUVEtnk"
      },
      "outputs": [],
      "source": [
        "df.groupby('v1').describe()"
      ]
    },
    {
      "cell_type": "code",
      "execution_count": null,
      "metadata": {
        "id": "X50W-6P6Ev0f"
      },
      "outputs": [],
      "source": [
        "df['v1'].value_counts()"
      ]
    },
    {
      "cell_type": "code",
      "execution_count": null,
      "metadata": {
        "id": "SwiuMo6TE4ZE"
      },
      "outputs": [],
      "source": [
        "df_spam = df[df['v1']=='spam']\n",
        "df_spam.shape"
      ]
    },
    {
      "cell_type": "code",
      "execution_count": null,
      "metadata": {
        "id": "Rgyzinm6E779"
      },
      "outputs": [],
      "source": [
        "df_ham = df[df['v1']=='ham']\n",
        "df_ham.shape"
      ]
    },
    {
      "cell_type": "code",
      "execution_count": null,
      "metadata": {
        "id": "X4eWIT8lE_aI"
      },
      "outputs": [],
      "source": [
        "df_ham_downsampled = df_ham.sample(df_spam.shape[0])\n",
        "df_ham_downsampled.shape"
      ]
    },
    {
      "cell_type": "code",
      "execution_count": null,
      "metadata": {
        "id": "P577wlc3FBnf"
      },
      "outputs": [],
      "source": [
        "df_balanced = pd.concat([df_ham_downsampled, df_spam])\n",
        "df_balanced.shape"
      ]
    },
    {
      "cell_type": "code",
      "execution_count": null,
      "metadata": {
        "id": "sd0sktkvFDuz"
      },
      "outputs": [],
      "source": [
        "df_balanced['v1'].value_counts()"
      ]
    },
    {
      "cell_type": "code",
      "execution_count": null,
      "metadata": {
        "id": "jCG8gum2FFjj"
      },
      "outputs": [],
      "source": [
        "df_balanced['spam']=df_balanced['v1'].apply(lambda x: 1 if x=='spam' else 0)\n",
        "df_balanced.sample(5)"
      ]
    },
    {
      "cell_type": "code",
      "execution_count": null,
      "metadata": {
        "id": "45R6tuOIFKrW"
      },
      "outputs": [],
      "source": [
        "from sklearn.model_selection import train_test_split\n",
        "\n",
        "X_train, X_test, y_train, y_test = train_test_split(df_balanced['v2'],df_balanced['spam'], stratify=df_balanced['spam'])"
      ]
    },
    {
      "cell_type": "code",
      "execution_count": null,
      "metadata": {
        "id": "mhLKxZyxFqzZ"
      },
      "outputs": [],
      "source": [
        "X_train.head(4)"
      ]
    },
    {
      "cell_type": "code",
      "execution_count": null,
      "metadata": {
        "id": "NN-qRqXaFtGy"
      },
      "outputs": [],
      "source": [
        "bert_preprocess = hub.KerasLayer(\"https://tfhub.dev/tensorflow/bert_en_uncased_preprocess/3\")\n",
        "bert_encoder = hub.KerasLayer(\"https://tfhub.dev/tensorflow/bert_en_uncased_L-12_H-768_A-12/4\")\n"
      ]
    },
    {
      "cell_type": "code",
      "execution_count": null,
      "metadata": {
        "id": "7bTkDOS-FzEt"
      },
      "outputs": [],
      "source": [
        "def get_sentence_embeding(sentences):\n",
        "    preprocessed_text = bert_preprocess(sentences)\n",
        "    return bert_encoder(preprocessed_text)['pooled_output']\n",
        "\n",
        "get_sentence_embeding([\n",
        "    \"500$ discount. hurry up\",\n",
        "    \"Bhavin, are you up for a volleybal game tomorrow?\"]\n",
        ")"
      ]
    },
    {
      "cell_type": "code",
      "execution_count": null,
      "metadata": {
        "id": "YiAdATRaF1Z9"
      },
      "outputs": [],
      "source": [
        "# Bert layers\n",
        "text_input = tf.keras.layers.Input(shape=(), dtype=tf.string, name='text')\n",
        "preprocessed_text = bert_preprocess(text_input)\n",
        "outputs = bert_encoder(preprocessed_text)\n",
        "\n",
        "# Neural network layers\n",
        "l = tf.keras.layers.Dropout(0.1, name=\"dropout\")(outputs['pooled_output'])\n",
        "l = tf.keras.layers.Dense(1, activation='sigmoid', name=\"output\")(l)\n",
        "\n",
        "# Use inputs and outputs to construct a final model\n",
        "model = tf.keras.Model(inputs=[text_input], outputs = [l])"
      ]
    },
    {
      "cell_type": "code",
      "execution_count": null,
      "metadata": {
        "id": "3zWxveSdF7Qe"
      },
      "outputs": [],
      "source": [
        "model.summary()"
      ]
    },
    {
      "cell_type": "code",
      "execution_count": null,
      "metadata": {
        "id": "7uw98WGeF_5-"
      },
      "outputs": [],
      "source": [
        "len(X_train)"
      ]
    },
    {
      "cell_type": "code",
      "execution_count": null,
      "metadata": {
        "id": "BxWZmwPZGDXJ"
      },
      "outputs": [],
      "source": [
        "METRICS = [\n",
        "      tf.keras.metrics.BinaryAccuracy(name='accuracy'),\n",
        "      tf.keras.metrics.Precision(name='precision'),\n",
        "      tf.keras.metrics.Recall(name='recall')\n",
        "]\n",
        "\n",
        "model.compile(optimizer='adam',\n",
        "              loss='binary_crossentropy',\n",
        "              metrics=METRICS)"
      ]
    },
    {
      "cell_type": "code",
      "execution_count": null,
      "metadata": {
        "colab": {
          "background_save": true,
          "base_uri": "https://localhost:8080/"
        },
        "id": "RQkzWS_aGFT6",
        "outputId": "13481bf2-4844-4283-f86c-21efbadd7d24"
      },
      "outputs": [
        {
          "name": "stdout",
          "output_type": "stream",
          "text": [
            "Epoch 1/10\n",
            "35/35 [==============================] - 333s 9s/step - loss: 0.6166 - accuracy: 0.6625 - precision: 0.6564 - recall: 0.6821\n",
            "Epoch 2/10\n",
            "35/35 [==============================] - 337s 10s/step - loss: 0.5008 - accuracy: 0.8268 - precision: 0.8492 - recall: 0.7946\n",
            "Epoch 3/10\n",
            "35/35 [==============================] - 339s 10s/step - loss: 0.4503 - accuracy: 0.8241 - precision: 0.8061 - recall: 0.8536\n",
            "Epoch 4/10\n",
            "35/35 [==============================] - 341s 10s/step - loss: 0.4033 - accuracy: 0.8679 - precision: 0.8692 - recall: 0.8661\n",
            "Epoch 5/10\n",
            "35/35 [==============================] - 336s 10s/step - loss: 0.3682 - accuracy: 0.8839 - precision: 0.8669 - recall: 0.9071\n",
            "Epoch 6/10\n",
            "35/35 [==============================] - 336s 10s/step - loss: 0.3489 - accuracy: 0.8813 - precision: 0.8792 - recall: 0.8839\n",
            "Epoch 7/10\n",
            "35/35 [==============================] - 339s 10s/step - loss: 0.3263 - accuracy: 0.8955 - precision: 0.8773 - recall: 0.9196\n",
            "Epoch 8/10\n",
            "35/35 [==============================] - 336s 10s/step - loss: 0.3092 - accuracy: 0.8991 - precision: 0.8928 - recall: 0.9071\n",
            "Epoch 9/10\n",
            "35/35 [==============================] - 337s 10s/step - loss: 0.3002 - accuracy: 0.9089 - precision: 0.8976 - recall: 0.9232\n",
            "Epoch 10/10\n",
            "35/35 [==============================] - 337s 10s/step - loss: 0.2825 - accuracy: 0.9045 - precision: 0.8925 - recall: 0.9196\n"
          ]
        },
        {
          "data": {
            "text/plain": [
              "<keras.src.callbacks.History at 0x7d4c36ac6110>"
            ]
          },
          "execution_count": 24,
          "metadata": {},
          "output_type": "execute_result"
        }
      ],
      "source": [
        "model.fit(X_train, y_train, epochs=10)"
      ]
    },
    {
      "cell_type": "code",
      "execution_count": 25,
      "metadata": {
        "id": "cfN3rFS2GHcL",
        "colab": {
          "base_uri": "https://localhost:8080/"
        },
        "outputId": "7afe7837-35ed-47b8-8da0-3f6ac3c0daeb"
      },
      "outputs": [
        {
          "output_type": "stream",
          "name": "stdout",
          "text": [
            "12/12 [==============================] - 113s 9s/step - loss: 0.2811 - accuracy: 0.9198 - precision: 0.9198 - recall: 0.9198\n"
          ]
        },
        {
          "output_type": "execute_result",
          "data": {
            "text/plain": [
              "[0.2811303734779358,\n",
              " 0.9197860956192017,\n",
              " 0.9197860956192017,\n",
              " 0.9197860956192017]"
            ]
          },
          "metadata": {},
          "execution_count": 25
        }
      ],
      "source": [
        "model.evaluate(X_test, y_test)"
      ]
    },
    {
      "cell_type": "code",
      "execution_count": 26,
      "metadata": {
        "id": "sk5t1OgKHBel",
        "colab": {
          "base_uri": "https://localhost:8080/"
        },
        "outputId": "a37e302e-6b36-469d-eb0c-fba4f9101f58"
      },
      "outputs": [
        {
          "output_type": "stream",
          "name": "stdout",
          "text": [
            "12/12 [==============================] - 112s 9s/step\n"
          ]
        }
      ],
      "source": [
        "y_pred= model.predict(X_test)\n",
        "y_pred= y_pred.flatten()"
      ]
    },
    {
      "cell_type": "code",
      "execution_count": null,
      "metadata": {
        "id": "ctec8_VJHG21"
      },
      "outputs": [],
      "source": [
        "import numpy as np\n",
        "\n",
        "y_predicted = np.where(y_pred > 0.5, 1, 0)\n",
        "y_predicted"
      ]
    },
    {
      "cell_type": "code",
      "execution_count": 28,
      "metadata": {
        "id": "5Mmi76xPHJVA",
        "colab": {
          "base_uri": "https://localhost:8080/"
        },
        "outputId": "c8ee2477-d42e-425e-941b-5d6183758661"
      },
      "outputs": [
        {
          "output_type": "execute_result",
          "data": {
            "text/plain": [
              "array([[172,  15],\n",
              "       [ 15, 172]])"
            ]
          },
          "metadata": {},
          "execution_count": 28
        }
      ],
      "source": [
        "from sklearn.metrics import confusion_matrix, classification_report\n",
        "\n",
        "cm = confusion_matrix(y_test, y_predicted)\n",
        "cm"
      ]
    },
    {
      "cell_type": "code",
      "execution_count": 29,
      "metadata": {
        "id": "CeOMWDW_HLRi",
        "colab": {
          "base_uri": "https://localhost:8080/",
          "height": 466
        },
        "outputId": "080f3d71-36b7-4a4b-991e-9cae786b4b1f"
      },
      "outputs": [
        {
          "output_type": "execute_result",
          "data": {
            "text/plain": [
              "Text(50.722222222222214, 0.5, 'Truth')"
            ]
          },
          "metadata": {},
          "execution_count": 29
        },
        {
          "output_type": "display_data",
          "data": {
            "text/plain": [
              "<Figure size 640x480 with 2 Axes>"
            ],
            "image/png": "[encoded data removed]"
          },
          "metadata": {}
        }
      ],
      "source": [
        "from matplotlib import pyplot as plt\n",
        "import seaborn as sn\n",
        "sn.heatmap(cm, annot=True, fmt='d')\n",
        "plt.xlabel('Predicted')\n",
        "plt.ylabel('Truth')"
      ]
    },
    {
      "cell_type": "code",
      "execution_count": 30,
      "metadata": {
        "id": "Ab3OAw1gHN6Q",
        "colab": {
          "base_uri": "https://localhost:8080/"
        },
        "outputId": "7ec923af-1663-4ac8-e25d-cc5e0360d437"
      },
      "outputs": [
        {
          "output_type": "stream",
          "name": "stdout",
          "text": [
            "              precision    recall  f1-score   support\n",
            "\n",
            "           0       0.92      0.92      0.92       187\n",
            "           1       0.92      0.92      0.92       187\n",
            "\n",
            "    accuracy                           0.92       374\n",
            "   macro avg       0.92      0.92      0.92       374\n",
            "weighted avg       0.92      0.92      0.92       374\n",
            "\n"
          ]
        }
      ],
      "source": [
        "print(classification_report(y_test, y_predicted))"
      ]
    },
    {
      "cell_type": "code",
      "execution_count": 31,
      "metadata": {
        "id": "YIZUNRiGHQZU",
        "colab": {
          "base_uri": "https://localhost:8080/"
        },
        "outputId": "09e407f9-b961-4ca5-82a5-ba3e3563cab6"
      },
      "outputs": [
        {
          "metadata": {
            "tags": null
          },
          "name": "stdout",
          "output_type": "stream",
          "text": [
            "1/1 [==============================] - 2s 2s/step\n"
          ]
        },
        {
          "data": {
            "text/plain": [
              "array([[0.7538083 ],\n",
              "       [0.78338   ],\n",
              "       [0.7257618 ],\n",
              "       [0.18277639],\n",
              "       [0.07792904]], dtype=float32)"
            ]
          },
          "execution_count": 31,
          "metadata": {},
          "output_type": "execute_result"
        }
      ],
      "source": [
        "reviews = [\n",
        "    'Enter a chance to win $5000, hurry up, offer valid until march 31, 2021',\n",
        "    'You are awarded a SiPix Digital Camera! call 09061221061 from landline. Delivery within 28days. T Cs Box177. M221BP. 2yr warranty. 150ppm. 16 . p pÂ£3.99',\n",
        "    'it to 80488. Your 500 free text messages are valid until 31 December 2005.',\n",
        "    'Hey Sam, Are you coming for a cricket game tomorrow',\n",
        "    \"Why don't you wait 'til at least wednesday to see if you get your .\"\n",
        "]\n",
        "model.predict(reviews)"
      ]
    },
    {
      "cell_type": "code",
      "execution_count": null,
      "metadata": {
        "id": "wkH33jKXHSbh"
      },
      "outputs": [],
      "source": []
    }
  ],
  "metadata": {
    "colab": {
      "provenance": [],
      "authorship_tag": "ABX9TyN7QVLak3aibRbkljlE9xD8",
      "include_colab_link": true
    },
    "kernelspec": {
      "display_name": "Python 3",
      "name": "python3"
    },
    "language_info": {
      "name": "python"
    }
  },
  "nbformat": 4,
  "nbformat_minor": 0
}