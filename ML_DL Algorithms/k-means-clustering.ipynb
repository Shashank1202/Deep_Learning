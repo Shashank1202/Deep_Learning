{
 "cells": [
  {
   "cell_type": "code",
   "execution_count": 1,
   "id": "61d5545c",
   "metadata": {
    "_cell_guid": "b1076dfc-b9ad-4769-8c92-a6c4dae69d19",
    "_uuid": "8f2839f25d086af736a60e9eeb907d3b93b6e0e5",
    "execution": {
     "iopub.execute_input": "2024-05-20T15:24:15.304003Z",
     "iopub.status.busy": "2024-05-20T15:24:15.303619Z",
     "iopub.status.idle": "2024-05-20T15:24:16.144472Z",
     "shell.execute_reply": "2024-05-20T15:24:16.143508Z"
    },
    "papermill": {
     "duration": 0.850888,
     "end_time": "2024-05-20T15:24:16.147144",
     "exception": false,
     "start_time": "2024-05-20T15:24:15.296256",
     "status": "completed"
    },
    "tags": []
   },
   "outputs": [],
   "source": [
    "# This Python 3 environment comes with many helpful analytics libraries installed\n",
    "# It is defined by the kaggle/python Docker image: https://github.com/kaggle/docker-python\n",
    "# For example, here's several helpful packages to load\n",
    "\n",
    "import numpy as np # linear algebra\n",
    "import pandas as pd # data processing, CSV file I/O (e.g. pd.read_csv)\n",
    "\n",
    "# Input data files are available in the read-only \"../input/\" directory\n",
    "# For example, running this (by clicking run or pressing Shift+Enter) will list all files under the input directory\n",
    "\n",
    "import os\n",
    "for dirname, _, filenames in os.walk('/kaggle/input'):\n",
    "    for filename in filenames:\n",
    "        print(os.path.join(dirname, filename))\n",
    "\n",
    "# You can write up to 20GB to the current directory (/kaggle/working/) that gets preserved as output when you create a version using \"Save & Run All\" \n",
    "# You can also write temporary files to /kaggle/temp/, but they won't be saved outside of the current session"
   ]
  },
  {
   "cell_type": "code",
   "execution_count": 2,
   "id": "0e6d7cbb",
   "metadata": {
    "execution": {
     "iopub.execute_input": "2024-05-20T15:24:16.160802Z",
     "iopub.status.busy": "2024-05-20T15:24:16.160243Z",
     "iopub.status.idle": "2024-05-20T15:24:17.732767Z",
     "shell.execute_reply": "2024-05-20T15:24:17.731874Z"
    },
    "papermill": {
     "duration": 1.582057,
     "end_time": "2024-05-20T15:24:17.735445",
     "exception": false,
     "start_time": "2024-05-20T15:24:16.153388",
     "status": "completed"
    },
    "tags": []
   },
   "outputs": [],
   "source": [
    "import pandas as pd\n",
    "import numpy as np\n",
    "from sklearn.cluster import KMeans\n",
    "from sklearn.datasets import make_blobs"
   ]
  },
  {
   "cell_type": "markdown",
   "id": "4f2cbf3e",
   "metadata": {
    "papermill": {
     "duration": 0.004868,
     "end_time": "2024-05-20T15:24:17.745598",
     "exception": false,
     "start_time": "2024-05-20T15:24:17.740730",
     "status": "completed"
    },
    "tags": []
   },
   "source": [
    "# Generating Synthetic Data"
   ]
  },
  {
   "cell_type": "markdown",
   "id": "65a1ded1",
   "metadata": {
    "papermill": {
     "duration": 0.004781,
     "end_time": "2024-05-20T15:24:17.755512",
     "exception": false,
     "start_time": "2024-05-20T15:24:17.750731",
     "status": "completed"
    },
    "tags": []
   },
   "source": []
  },
  {
   "cell_type": "code",
   "execution_count": 3,
   "id": "bd02bc7f",
   "metadata": {
    "execution": {
     "iopub.execute_input": "2024-05-20T15:24:17.767153Z",
     "iopub.status.busy": "2024-05-20T15:24:17.766790Z",
     "iopub.status.idle": "2024-05-20T15:24:17.775230Z",
     "shell.execute_reply": "2024-05-20T15:24:17.774338Z"
    },
    "papermill": {
     "duration": 0.017101,
     "end_time": "2024-05-20T15:24:17.777572",
     "exception": false,
     "start_time": "2024-05-20T15:24:17.760471",
     "status": "completed"
    },
    "tags": []
   },
   "outputs": [],
   "source": [
    "x, y= make_blobs(n_samples= 300, centers=4, cluster_std=0.60, random_state=42)"
   ]
  },
  {
   "cell_type": "markdown",
   "id": "a7f0c63b",
   "metadata": {
    "papermill": {
     "duration": 0.005059,
     "end_time": "2024-05-20T15:24:17.787862",
     "exception": false,
     "start_time": "2024-05-20T15:24:17.782803",
     "status": "completed"
    },
    "tags": []
   },
   "source": [
    "# Initialize KMeans with 4 Clusters"
   ]
  },
  {
   "cell_type": "code",
   "execution_count": 4,
   "id": "269bef26",
   "metadata": {
    "execution": {
     "iopub.execute_input": "2024-05-20T15:24:17.800303Z",
     "iopub.status.busy": "2024-05-20T15:24:17.799615Z",
     "iopub.status.idle": "2024-05-20T15:24:17.804394Z",
     "shell.execute_reply": "2024-05-20T15:24:17.803392Z"
    },
    "papermill": {
     "duration": 0.013809,
     "end_time": "2024-05-20T15:24:17.806800",
     "exception": false,
     "start_time": "2024-05-20T15:24:17.792991",
     "status": "completed"
    },
    "tags": []
   },
   "outputs": [],
   "source": [
    "Kmeans= KMeans(n_clusters= 4, random_state=0)"
   ]
  },
  {
   "cell_type": "markdown",
   "id": "5cf8eeee",
   "metadata": {
    "papermill": {
     "duration": 0.004764,
     "end_time": "2024-05-20T15:24:17.816759",
     "exception": false,
     "start_time": "2024-05-20T15:24:17.811995",
     "status": "completed"
    },
    "tags": []
   },
   "source": [
    "# Fit the Model"
   ]
  },
  {
   "cell_type": "code",
   "execution_count": 5,
   "id": "31729683",
   "metadata": {
    "execution": {
     "iopub.execute_input": "2024-05-20T15:24:17.828310Z",
     "iopub.status.busy": "2024-05-20T15:24:17.827916Z",
     "iopub.status.idle": "2024-05-20T15:24:17.916752Z",
     "shell.execute_reply": "2024-05-20T15:24:17.915735Z"
    },
    "papermill": {
     "duration": 0.097675,
     "end_time": "2024-05-20T15:24:17.919445",
     "exception": false,
     "start_time": "2024-05-20T15:24:17.821770",
     "status": "completed"
    },
    "tags": []
   },
   "outputs": [
    {
     "name": "stderr",
     "output_type": "stream",
     "text": [
      "/opt/conda/lib/python3.10/site-packages/sklearn/cluster/_kmeans.py:870: FutureWarning: The default value of `n_init` will change from 10 to 'auto' in 1.4. Set the value of `n_init` explicitly to suppress the warning\n",
      "  warnings.warn(\n"
     ]
    },
    {
     "data": {
      "text/html": [
       "<style>#sk-container-id-1 {color: black;background-color: white;}#sk-container-id-1 pre{padding: 0;}#sk-container-id-1 div.sk-toggleable {background-color: white;}#sk-container-id-1 label.sk-toggleable__label {cursor: pointer;display: block;width: 100%;margin-bottom: 0;padding: 0.3em;box-sizing: border-box;text-align: center;}#sk-container-id-1 label.sk-toggleable__label-arrow:before {content: \"▸\";float: left;margin-right: 0.25em;color: #696969;}#sk-container-id-1 label.sk-toggleable__label-arrow:hover:before {color: black;}#sk-container-id-1 div.sk-estimator:hover label.sk-toggleable__label-arrow:before {color: black;}#sk-container-id-1 div.sk-toggleable__content {max-height: 0;max-width: 0;overflow: hidden;text-align: left;background-color: #f0f8ff;}#sk-container-id-1 div.sk-toggleable__content pre {margin: 0.2em;color: black;border-radius: 0.25em;background-color: #f0f8ff;}#sk-container-id-1 input.sk-toggleable__control:checked~div.sk-toggleable__content {max-height: 200px;max-width: 100%;overflow: auto;}#sk-container-id-1 input.sk-toggleable__control:checked~label.sk-toggleable__label-arrow:before {content: \"▾\";}#sk-container-id-1 div.sk-estimator input.sk-toggleable__control:checked~label.sk-toggleable__label {background-color: #d4ebff;}#sk-container-id-1 div.sk-label input.sk-toggleable__control:checked~label.sk-toggleable__label {background-color: #d4ebff;}#sk-container-id-1 input.sk-hidden--visually {border: 0;clip: rect(1px 1px 1px 1px);clip: rect(1px, 1px, 1px, 1px);height: 1px;margin: -1px;overflow: hidden;padding: 0;position: absolute;width: 1px;}#sk-container-id-1 div.sk-estimator {font-family: monospace;background-color: #f0f8ff;border: 1px dotted black;border-radius: 0.25em;box-sizing: border-box;margin-bottom: 0.5em;}#sk-container-id-1 div.sk-estimator:hover {background-color: #d4ebff;}#sk-container-id-1 div.sk-parallel-item::after {content: \"\";width: 100%;border-bottom: 1px solid gray;flex-grow: 1;}#sk-container-id-1 div.sk-label:hover label.sk-toggleable__label {background-color: #d4ebff;}#sk-container-id-1 div.sk-serial::before {content: \"\";position: absolute;border-left: 1px solid gray;box-sizing: border-box;top: 0;bottom: 0;left: 50%;z-index: 0;}#sk-container-id-1 div.sk-serial {display: flex;flex-direction: column;align-items: center;background-color: white;padding-right: 0.2em;padding-left: 0.2em;position: relative;}#sk-container-id-1 div.sk-item {position: relative;z-index: 1;}#sk-container-id-1 div.sk-parallel {display: flex;align-items: stretch;justify-content: center;background-color: white;position: relative;}#sk-container-id-1 div.sk-item::before, #sk-container-id-1 div.sk-parallel-item::before {content: \"\";position: absolute;border-left: 1px solid gray;box-sizing: border-box;top: 0;bottom: 0;left: 50%;z-index: -1;}#sk-container-id-1 div.sk-parallel-item {display: flex;flex-direction: column;z-index: 1;position: relative;background-color: white;}#sk-container-id-1 div.sk-parallel-item:first-child::after {align-self: flex-end;width: 50%;}#sk-container-id-1 div.sk-parallel-item:last-child::after {align-self: flex-start;width: 50%;}#sk-container-id-1 div.sk-parallel-item:only-child::after {width: 0;}#sk-container-id-1 div.sk-dashed-wrapped {border: 1px dashed gray;margin: 0 0.4em 0.5em 0.4em;box-sizing: border-box;padding-bottom: 0.4em;background-color: white;}#sk-container-id-1 div.sk-label label {font-family: monospace;font-weight: bold;display: inline-block;line-height: 1.2em;}#sk-container-id-1 div.sk-label-container {text-align: center;}#sk-container-id-1 div.sk-container {/* jupyter's `normalize.less` sets `[hidden] { display: none; }` but bootstrap.min.css set `[hidden] { display: none !important; }` so we also need the `!important` here to be able to override the default hidden behavior on the sphinx rendered scikit-learn.org. See: https://github.com/scikit-learn/scikit-learn/issues/21755 */display: inline-block !important;position: relative;}#sk-container-id-1 div.sk-text-repr-fallback {display: none;}</style><div id=\"sk-container-id-1\" class=\"sk-top-container\"><div class=\"sk-text-repr-fallback\"><pre>KMeans(n_clusters=4, random_state=0)</pre><b>In a Jupyter environment, please rerun this cell to show the HTML representation or trust the notebook. <br />On GitHub, the HTML representation is unable to render, please try loading this page with nbviewer.org.</b></div><div class=\"sk-container\" hidden><div class=\"sk-item\"><div class=\"sk-estimator sk-toggleable\"><input class=\"sk-toggleable__control sk-hidden--visually\" id=\"sk-estimator-id-1\" type=\"checkbox\" checked><label for=\"sk-estimator-id-1\" class=\"sk-toggleable__label sk-toggleable__label-arrow\">KMeans</label><div class=\"sk-toggleable__content\"><pre>KMeans(n_clusters=4, random_state=0)</pre></div></div></div></div></div>"
      ],
      "text/plain": [
       "KMeans(n_clusters=4, random_state=0)"
      ]
     },
     "execution_count": 5,
     "metadata": {},
     "output_type": "execute_result"
    }
   ],
   "source": [
    "Kmeans.fit(x)"
   ]
  },
  {
   "cell_type": "markdown",
   "id": "7928320b",
   "metadata": {
    "papermill": {
     "duration": 0.00524,
     "end_time": "2024-05-20T15:24:17.930635",
     "exception": false,
     "start_time": "2024-05-20T15:24:17.925395",
     "status": "completed"
    },
    "tags": []
   },
   "source": [
    "# Predict the Model"
   ]
  },
  {
   "cell_type": "code",
   "execution_count": 6,
   "id": "68ca441f",
   "metadata": {
    "execution": {
     "iopub.execute_input": "2024-05-20T15:24:17.944026Z",
     "iopub.status.busy": "2024-05-20T15:24:17.943016Z",
     "iopub.status.idle": "2024-05-20T15:24:17.948740Z",
     "shell.execute_reply": "2024-05-20T15:24:17.947829Z"
    },
    "papermill": {
     "duration": 0.014752,
     "end_time": "2024-05-20T15:24:17.950999",
     "exception": false,
     "start_time": "2024-05-20T15:24:17.936247",
     "status": "completed"
    },
    "tags": []
   },
   "outputs": [],
   "source": [
    "predict=Kmeans.predict(x)"
   ]
  },
  {
   "cell_type": "markdown",
   "id": "5667b845",
   "metadata": {
    "papermill": {
     "duration": 0.0052,
     "end_time": "2024-05-20T15:24:17.961794",
     "exception": false,
     "start_time": "2024-05-20T15:24:17.956594",
     "status": "completed"
    },
    "tags": []
   },
   "source": [
    "# Plotting the Clusters"
   ]
  },
  {
   "cell_type": "code",
   "execution_count": 7,
   "id": "861233a2",
   "metadata": {
    "execution": {
     "iopub.execute_input": "2024-05-20T15:24:17.974403Z",
     "iopub.status.busy": "2024-05-20T15:24:17.973998Z",
     "iopub.status.idle": "2024-05-20T15:24:18.307941Z",
     "shell.execute_reply": "2024-05-20T15:24:18.306908Z"
    },
    "papermill": {
     "duration": 0.343362,
     "end_time": "2024-05-20T15:24:18.310526",
     "exception": false,
     "start_time": "2024-05-20T15:24:17.967164",
     "status": "completed"
    },
    "tags": []
   },
   "outputs": [
    {
     "data": {
      "text/plain": [
       "<matplotlib.collections.PathCollection at 0x784406f30dc0>"
      ]
     },
     "execution_count": 7,
     "metadata": {},
     "output_type": "execute_result"
    },
    {
     "data": {
      "image/png": "[encoded data removed]",
      "text/plain": [
       "<Figure size 640x480 with 1 Axes>"
      ]
     },
     "metadata": {},
     "output_type": "display_data"
    }
   ],
   "source": [
    "import matplotlib.pyplot as plt\n",
    "\n",
    "plt.scatter(x[:,0],x[:, 1], c=predict, s=50, cmap='viridis')"
   ]
  },
  {
   "cell_type": "markdown",
   "id": "9e78e367",
   "metadata": {
    "papermill": {
     "duration": 0.006056,
     "end_time": "2024-05-20T15:24:18.322725",
     "exception": false,
     "start_time": "2024-05-20T15:24:18.316669",
     "status": "completed"
    },
    "tags": []
   },
   "source": [
    "# Plot the Centroids"
   ]
  },
  {
   "cell_type": "code",
   "execution_count": 8,
   "id": "5202924f",
   "metadata": {
    "execution": {
     "iopub.execute_input": "2024-05-20T15:24:18.337852Z",
     "iopub.status.busy": "2024-05-20T15:24:18.337433Z",
     "iopub.status.idle": "2024-05-20T15:24:18.632664Z",
     "shell.execute_reply": "2024-05-20T15:24:18.631525Z"
    },
    "papermill": {
     "duration": 0.306385,
     "end_time": "2024-05-20T15:24:18.635282",
     "exception": false,
     "start_time": "2024-05-20T15:24:18.328897",
     "status": "completed"
    },
    "tags": []
   },
   "outputs": [
    {
     "data": {
      "image/png": "[encoded data removed]",
      "text/plain": [
       "<Figure size 640x480 with 1 Axes>"
      ]
     },
     "metadata": {},
     "output_type": "display_data"
    }
   ],
   "source": [
    "centers= Kmeans.cluster_centers_\n",
    "plt.scatter(centers[:, 0], centers[:, 1], c='red', s=200, alpha=0.75, marker='x')\n",
    "plt.xlabel('Feature 1')\n",
    "plt.ylabel('Feature 2')\n",
    "plt.title('K-Means Clustering')\n",
    "plt.show()"
   ]
  },
  {
   "cell_type": "markdown",
   "id": "711dbe87",
   "metadata": {
    "papermill": {
     "duration": 0.006189,
     "end_time": "2024-05-20T15:24:18.648091",
     "exception": false,
     "start_time": "2024-05-20T15:24:18.641902",
     "status": "completed"
    },
    "tags": []
   },
   "source": []
  }
 ],
 "metadata": {
  "kaggle": {
   "accelerator": "none",
   "dataSources": [],
   "dockerImageVersionId": 30698,
   "isGpuEnabled": false,
   "isInternetEnabled": true,
   "language": "python",
   "sourceType": "notebook"
  },
  "kernelspec": {
   "display_name": "Python 3",
   "language": "python",
   "name": "python3"
  },
  "language_info": {
   "codemirror_mode": {
    "name": "ipython",
    "version": 3
   },
   "file_extension": ".py",
   "mimetype": "text/x-python",
   "name": "python",
   "nbconvert_exporter": "python",
   "pygments_lexer": "ipython3",
   "version": "3.10.13"
  },
  "papermill": {
   "default_parameters": {},
   "duration": 6.894091,
   "end_time": "2024-05-20T15:24:19.276354",
   "environment_variables": {},
   "exception": null,
   "input_path": "__notebook__.ipynb",
   "output_path": "__notebook__.ipynb",
   "parameters": {},
   "start_time": "2024-05-20T15:24:12.382263",
   "version": "2.5.0"
  }
 },
 "nbformat": 4,
 "nbformat_minor": 5
}
