{
 "cells": [
  {
   "cell_type": "code",
   "execution_count": 1,
   "id": "c20a98ee",
   "metadata": {
    "_cell_guid": "b1076dfc-b9ad-4769-8c92-a6c4dae69d19",
    "_uuid": "8f2839f25d086af736a60e9eeb907d3b93b6e0e5",
    "execution": {
     "iopub.execute_input": "2024-05-27T16:52:12.025272Z",
     "iopub.status.busy": "2024-05-27T16:52:12.024336Z",
     "iopub.status.idle": "2024-05-27T16:52:13.029923Z",
     "shell.execute_reply": "2024-05-27T16:52:13.028324Z"
    },
    "papermill": {
     "duration": 1.014846,
     "end_time": "2024-05-27T16:52:13.032724",
     "exception": false,
     "start_time": "2024-05-27T16:52:12.017878",
     "status": "completed"
    },
    "tags": []
   },
   "outputs": [],
   "source": [
    "# This Python 3 environment comes with many helpful analytics libraries installed\n",
    "# It is defined by the kaggle/python Docker image: https://github.com/kaggle/docker-python\n",
    "# For example, here's several helpful packages to load\n",
    "\n",
    "import numpy as np # linear algebra\n",
    "import pandas as pd # data processing, CSV file I/O (e.g. pd.read_csv)\n",
    "\n",
    "# Input data files are available in the read-only \"../input/\" directory\n",
    "# For example, running this (by clicking run or pressing Shift+Enter) will list all files under the input directory\n",
    "\n",
    "import os\n",
    "for dirname, _, filenames in os.walk('/kaggle/input'):\n",
    "    for filename in filenames:\n",
    "        print(os.path.join(dirname, filename))\n",
    "\n",
    "# You can write up to 20GB to the current directory (/kaggle/working/) that gets preserved as output when you create a version using \"Save & Run All\" \n",
    "# You can also write temporary files to /kaggle/temp/, but they won't be saved outside of the current session"
   ]
  },
  {
   "cell_type": "code",
   "execution_count": 2,
   "id": "36ab4714",
   "metadata": {
    "execution": {
     "iopub.execute_input": "2024-05-27T16:52:13.045283Z",
     "iopub.status.busy": "2024-05-27T16:52:13.044771Z",
     "iopub.status.idle": "2024-05-27T16:52:20.255277Z",
     "shell.execute_reply": "2024-05-27T16:52:20.254259Z"
    },
    "papermill": {
     "duration": 7.218418,
     "end_time": "2024-05-27T16:52:20.257828",
     "exception": false,
     "start_time": "2024-05-27T16:52:13.039410",
     "status": "completed"
    },
    "tags": []
   },
   "outputs": [],
   "source": [
    "import torch \n",
    "import torch.nn.functional as F #Functionals like parameters like acticaition functions\n",
    "import torchvision.datasets as datasets #standard dataset\n",
    "import torchvision.transforms as transforms #transformations we can perform on our datasets: like data agumentation\n",
    "from torch import optim  #For optimizers sigmoid, adam etc\n",
    "from torch import nn #all neural network modules\n",
    "from torch.utils.data import DataLoader  #Gives easier dataset management by creating mini batches etc.\n",
    "from tqdm import tqdm #For a nice progress bar!"
   ]
  },
  {
   "cell_type": "code",
   "execution_count": 3,
   "id": "494ccd34",
   "metadata": {
    "execution": {
     "iopub.execute_input": "2024-05-27T16:52:20.267625Z",
     "iopub.status.busy": "2024-05-27T16:52:20.266800Z",
     "iopub.status.idle": "2024-05-27T16:52:20.272097Z",
     "shell.execute_reply": "2024-05-27T16:52:20.270977Z"
    },
    "papermill": {
     "duration": 0.012864,
     "end_time": "2024-05-27T16:52:20.274515",
     "exception": false,
     "start_time": "2024-05-27T16:52:20.261651",
     "status": "completed"
    },
    "tags": []
   },
   "outputs": [],
   "source": [
    "# set device\n",
    "device= \"cuda\" if torch.cuda.is_available() else \"cpu\""
   ]
  },
  {
   "cell_type": "code",
   "execution_count": 4,
   "id": "27a807f1",
   "metadata": {
    "execution": {
     "iopub.execute_input": "2024-05-27T16:52:20.283730Z",
     "iopub.status.busy": "2024-05-27T16:52:20.283303Z",
     "iopub.status.idle": "2024-05-27T16:52:20.288832Z",
     "shell.execute_reply": "2024-05-27T16:52:20.287676Z"
    },
    "papermill": {
     "duration": 0.012924,
     "end_time": "2024-05-27T16:52:20.291126",
     "exception": false,
     "start_time": "2024-05-27T16:52:20.278202",
     "status": "completed"
    },
    "tags": []
   },
   "outputs": [],
   "source": [
    "#Hyperparameters\n",
    "\n",
    "input_size= 28\n",
    "hidden_size= 256\n",
    "num_layers= 2\n",
    "num_classes= 10\n",
    "sequence_length= 28\n",
    "learning_rate= 0.005\n",
    "batch_size= 64\n",
    "num_epochs= 3"
   ]
  },
  {
   "cell_type": "code",
   "execution_count": 5,
   "id": "8414d9b6",
   "metadata": {
    "execution": {
     "iopub.execute_input": "2024-05-27T16:52:20.300302Z",
     "iopub.status.busy": "2024-05-27T16:52:20.299928Z",
     "iopub.status.idle": "2024-05-27T16:52:20.308264Z",
     "shell.execute_reply": "2024-05-27T16:52:20.307126Z"
    },
    "papermill": {
     "duration": 0.015545,
     "end_time": "2024-05-27T16:52:20.310483",
     "exception": false,
     "start_time": "2024-05-27T16:52:20.294938",
     "status": "completed"
    },
    "tags": []
   },
   "outputs": [],
   "source": [
    "#LTSM Model\n",
    "\n",
    "class RNN_LSTM(nn.Module):\n",
    "    def __init__(self, input_size, hidden_size, num_layers, num_classes):\n",
    "        super(RNN_LSTM, self).__init__()\n",
    "        self.hidden_size = hidden_size\n",
    "        self.num_layers = num_layers\n",
    "        self.lstm = nn.LSTM(input_size, hidden_size, num_layers, batch_first=True)\n",
    "        self.fc = nn.Linear(hidden_size * sequence_length, num_classes)\n",
    "\n",
    "    def forward(self, x):\n",
    "        # Set initial hidden and cell states\n",
    "        h0 = torch.zeros(self.num_layers, x.size(0), self.hidden_size).to(device)\n",
    "        c0 = torch.zeros(self.num_layers, x.size(0), self.hidden_size).to(device)\n",
    "\n",
    "        # Forward propagate LSTM\n",
    "        out, _ = self.lstm(\n",
    "            x, (h0, c0)\n",
    "        )  # out: tensor of shape (batch_size, seq_length, hidden_size)\n",
    "        out = out.reshape(out.shape[0], -1)\n",
    "\n",
    "        # Decode the hidden state of the last time step\n",
    "        out = self.fc(out)\n",
    "        return out"
   ]
  },
  {
   "cell_type": "code",
   "execution_count": 6,
   "id": "b3567ff2",
   "metadata": {
    "execution": {
     "iopub.execute_input": "2024-05-27T16:52:20.319395Z",
     "iopub.status.busy": "2024-05-27T16:52:20.319006Z",
     "iopub.status.idle": "2024-05-27T16:52:22.352110Z",
     "shell.execute_reply": "2024-05-27T16:52:22.350845Z"
    },
    "papermill": {
     "duration": 2.040953,
     "end_time": "2024-05-27T16:52:22.355137",
     "exception": false,
     "start_time": "2024-05-27T16:52:20.314184",
     "status": "completed"
    },
    "tags": []
   },
   "outputs": [
    {
     "name": "stdout",
     "output_type": "stream",
     "text": [
      "Downloading http://yann.lecun.com/exdb/mnist/train-images-idx3-ubyte.gz\n",
      "Failed to download (trying next):\n",
      "HTTP Error 403: Forbidden\n",
      "\n",
      "Downloading https://ossci-datasets.s3.amazonaws.com/mnist/train-images-idx3-ubyte.gz\n",
      "Downloading https://ossci-datasets.s3.amazonaws.com/mnist/train-images-idx3-ubyte.gz to dataset/MNIST/raw/train-images-idx3-ubyte.gz\n"
     ]
    },
    {
     "name": "stderr",
     "output_type": "stream",
     "text": [
      "100%|██████████| 9912422/9912422 [00:00<00:00, 48713906.04it/s]\n"
     ]
    },
    {
     "name": "stdout",
     "output_type": "stream",
     "text": [
      "Extracting dataset/MNIST/raw/train-images-idx3-ubyte.gz to dataset/MNIST/raw\n",
      "\n",
      "Downloading http://yann.lecun.com/exdb/mnist/train-labels-idx1-ubyte.gz\n",
      "Failed to download (trying next):\n",
      "HTTP Error 403: Forbidden\n",
      "\n",
      "Downloading https://ossci-datasets.s3.amazonaws.com/mnist/train-labels-idx1-ubyte.gz\n",
      "Downloading https://ossci-datasets.s3.amazonaws.com/mnist/train-labels-idx1-ubyte.gz to dataset/MNIST/raw/train-labels-idx1-ubyte.gz\n"
     ]
    },
    {
     "name": "stderr",
     "output_type": "stream",
     "text": [
      "100%|██████████| 28881/28881 [00:00<00:00, 1457446.84it/s]\n"
     ]
    },
    {
     "name": "stdout",
     "output_type": "stream",
     "text": [
      "Extracting dataset/MNIST/raw/train-labels-idx1-ubyte.gz to dataset/MNIST/raw\n",
      "\n",
      "Downloading http://yann.lecun.com/exdb/mnist/t10k-images-idx3-ubyte.gz\n",
      "Failed to download (trying next):\n",
      "HTTP Error 403: Forbidden\n",
      "\n",
      "Downloading https://ossci-datasets.s3.amazonaws.com/mnist/t10k-images-idx3-ubyte.gz\n",
      "Downloading https://ossci-datasets.s3.amazonaws.com/mnist/t10k-images-idx3-ubyte.gz to dataset/MNIST/raw/t10k-images-idx3-ubyte.gz\n"
     ]
    },
    {
     "name": "stderr",
     "output_type": "stream",
     "text": [
      "100%|██████████| 1648877/1648877 [00:00<00:00, 11480792.11it/s]\n"
     ]
    },
    {
     "name": "stdout",
     "output_type": "stream",
     "text": [
      "Extracting dataset/MNIST/raw/t10k-images-idx3-ubyte.gz to dataset/MNIST/raw\n",
      "\n",
      "Downloading http://yann.lecun.com/exdb/mnist/t10k-labels-idx1-ubyte.gz\n",
      "Failed to download (trying next):\n",
      "HTTP Error 403: Forbidden\n",
      "\n",
      "Downloading https://ossci-datasets.s3.amazonaws.com/mnist/t10k-labels-idx1-ubyte.gz\n",
      "Downloading https://ossci-datasets.s3.amazonaws.com/mnist/t10k-labels-idx1-ubyte.gz to dataset/MNIST/raw/t10k-labels-idx1-ubyte.gz\n"
     ]
    },
    {
     "name": "stderr",
     "output_type": "stream",
     "text": [
      "100%|██████████| 4542/4542 [00:00<00:00, 1991899.70it/s]"
     ]
    },
    {
     "name": "stdout",
     "output_type": "stream",
     "text": [
      "Extracting dataset/MNIST/raw/t10k-labels-idx1-ubyte.gz to dataset/MNIST/raw\n",
      "\n"
     ]
    },
    {
     "name": "stderr",
     "output_type": "stream",
     "text": [
      "\n"
     ]
    }
   ],
   "source": [
    "#Load Data\n",
    "\n",
    "train_dataset= datasets.MNIST(\n",
    "    root=\"dataset/\", train=True, transform=transforms.ToTensor(), download= True)\n",
    "\n",
    "test_dataset= datasets.MNIST(\n",
    "    root=\"dataset/\", train=False, transform=transforms.ToTensor(), download= True)\n",
    "\n",
    "train_loader= DataLoader(dataset= train_dataset, batch_size=batch_size, shuffle= True)\n",
    "test_loader= DataLoader(dataset= test_dataset, batch_size= batch_size, shuffle= True)"
   ]
  },
  {
   "cell_type": "code",
   "execution_count": 7,
   "id": "d73cd2b0",
   "metadata": {
    "execution": {
     "iopub.execute_input": "2024-05-27T16:52:22.368654Z",
     "iopub.status.busy": "2024-05-27T16:52:22.368165Z",
     "iopub.status.idle": "2024-05-27T16:52:22.400709Z",
     "shell.execute_reply": "2024-05-27T16:52:22.399305Z"
    },
    "papermill": {
     "duration": 0.043274,
     "end_time": "2024-05-27T16:52:22.404055",
     "exception": false,
     "start_time": "2024-05-27T16:52:22.360781",
     "status": "completed"
    },
    "tags": []
   },
   "outputs": [],
   "source": [
    "model= RNN_LSTM(input_size, hidden_size, num_layers, num_classes).to(device)"
   ]
  },
  {
   "cell_type": "code",
   "execution_count": 8,
   "id": "9c27b0d8",
   "metadata": {
    "execution": {
     "iopub.execute_input": "2024-05-27T16:52:22.417431Z",
     "iopub.status.busy": "2024-05-27T16:52:22.416947Z",
     "iopub.status.idle": "2024-05-27T16:52:22.424116Z",
     "shell.execute_reply": "2024-05-27T16:52:22.422643Z"
    },
    "papermill": {
     "duration": 0.01726,
     "end_time": "2024-05-27T16:52:22.427067",
     "exception": false,
     "start_time": "2024-05-27T16:52:22.409807",
     "status": "completed"
    },
    "tags": []
   },
   "outputs": [],
   "source": [
    "#Loss and optimizer\n",
    "\n",
    "criterion= nn.CrossEntropyLoss()\n",
    "optimizer= optim.Adam(model.parameters(), lr= learning_rate)"
   ]
  },
  {
   "cell_type": "code",
   "execution_count": 9,
   "id": "f52cd881",
   "metadata": {
    "execution": {
     "iopub.execute_input": "2024-05-27T16:52:22.441332Z",
     "iopub.status.busy": "2024-05-27T16:52:22.440194Z",
     "iopub.status.idle": "2024-05-27T16:59:08.296595Z",
     "shell.execute_reply": "2024-05-27T16:59:08.294000Z"
    },
    "papermill": {
     "duration": 405.866107,
     "end_time": "2024-05-27T16:59:08.298956",
     "exception": false,
     "start_time": "2024-05-27T16:52:22.432849",
     "status": "completed"
    },
    "tags": []
   },
   "outputs": [
    {
     "name": "stderr",
     "output_type": "stream",
     "text": [
      "100%|██████████| 938/938 [02:15<00:00,  6.92it/s]\n",
      "100%|██████████| 938/938 [02:15<00:00,  6.91it/s]\n",
      "100%|██████████| 938/938 [02:14<00:00,  6.97it/s]\n"
     ]
    }
   ],
   "source": [
    "#Train network\n",
    "\n",
    "for epoch in range(num_epochs):\n",
    "    for batch_idx, (data, targets) in enumerate(tqdm(train_loader)):\n",
    "        #Get data to cuda or cpu\n",
    "        data= data.to(device=device).squeeze(1)\n",
    "        targets= targets.to(device=device)\n",
    "        \n",
    "        #Forward\n",
    "        scores= model(data)\n",
    "        loss= criterion(scores, targets)\n",
    "        \n",
    "        #backward\n",
    "        optimizer.zero_grad()\n",
    "        loss.backward()\n",
    "        \n",
    "        #gradient descent update step/adam step\n",
    "        optimizer.step()"
   ]
  },
  {
   "cell_type": "code",
   "execution_count": 10,
   "id": "21a8a56a",
   "metadata": {
    "execution": {
     "iopub.execute_input": "2024-05-27T16:59:08.668494Z",
     "iopub.status.busy": "2024-05-27T16:59:08.668130Z",
     "iopub.status.idle": "2024-05-27T16:59:08.674462Z",
     "shell.execute_reply": "2024-05-27T16:59:08.673481Z"
    },
    "papermill": {
     "duration": 0.192628,
     "end_time": "2024-05-27T16:59:08.676478",
     "exception": false,
     "start_time": "2024-05-27T16:59:08.483850",
     "status": "completed"
    },
    "tags": []
   },
   "outputs": [],
   "source": [
    "#Check accuracy on training & Test to see how good our model\n",
    "\n",
    "def check_accuracy(loader, model):\n",
    "    num_correct= 0\n",
    "    num_samples= 0\n",
    "    \n",
    "    #set model to eval\n",
    "    model.eval()\n",
    "    \n",
    "    with torch.no_grad():\n",
    "        for x, y in loader:\n",
    "            x= x.to(device=device).squeeze(1)\n",
    "            y= y.to(device=device)\n",
    "            \n",
    "            scores= model(x)\n",
    "            _, predictions= scores.max(1)\n",
    "            num_correct +=(predictions==y).sum()\n",
    "            num_samples += predictions.size(0)\n",
    "        \n",
    "        \n",
    "    model.train()\n",
    "    return num_correct/ num_samples"
   ]
  },
  {
   "cell_type": "code",
   "execution_count": 11,
   "id": "f8b17e76",
   "metadata": {
    "execution": {
     "iopub.execute_input": "2024-05-27T16:59:09.043803Z",
     "iopub.status.busy": "2024-05-27T16:59:09.043327Z",
     "iopub.status.idle": "2024-05-27T16:59:57.019935Z",
     "shell.execute_reply": "2024-05-27T16:59:57.018792Z"
    },
    "papermill": {
     "duration": 48.162851,
     "end_time": "2024-05-27T16:59:57.022242",
     "exception": false,
     "start_time": "2024-05-27T16:59:08.859391",
     "status": "completed"
    },
    "tags": []
   },
   "outputs": [
    {
     "name": "stdout",
     "output_type": "stream",
     "text": [
      " Accuracy on training set: 99.048332\n",
      " Accuracy on test set: 98.68\n"
     ]
    }
   ],
   "source": [
    "print(f\" Accuracy on training set: {check_accuracy(train_loader, model)*100:2f}\")\n",
    "print(f\" Accuracy on test set: {check_accuracy(test_loader, model)*100:.2f}\")"
   ]
  },
  {
   "cell_type": "code",
   "execution_count": null,
   "id": "f92fa57d",
   "metadata": {
    "papermill": {
     "duration": 0.18238,
     "end_time": "2024-05-27T16:59:57.386022",
     "exception": false,
     "start_time": "2024-05-27T16:59:57.203642",
     "status": "completed"
    },
    "tags": []
   },
   "outputs": [],
   "source": []
  }
 ],
 "metadata": {
  "kaggle": {
   "accelerator": "none",
   "dataSources": [],
   "dockerImageVersionId": 30698,
   "isGpuEnabled": false,
   "isInternetEnabled": true,
   "language": "python",
   "sourceType": "notebook"
  },
  "kernelspec": {
   "display_name": "Python 3",
   "language": "python",
   "name": "python3"
  },
  "language_info": {
   "codemirror_mode": {
    "name": "ipython",
    "version": 3
   },
   "file_extension": ".py",
   "mimetype": "text/x-python",
   "name": "python",
   "nbconvert_exporter": "python",
   "pygments_lexer": "ipython3",
   "version": "3.10.13"
  },
  "papermill": {
   "default_parameters": {},
   "duration": 469.946475,
   "end_time": "2024-05-27T16:59:58.967198",
   "environment_variables": {},
   "exception": null,
   "input_path": "__notebook__.ipynb",
   "output_path": "__notebook__.ipynb",
   "parameters": {},
   "start_time": "2024-05-27T16:52:09.020723",
   "version": "2.5.0"
  }
 },
 "nbformat": 4,
 "nbformat_minor": 5
}
