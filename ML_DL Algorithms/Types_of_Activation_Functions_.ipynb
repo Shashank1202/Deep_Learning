{
  "nbformat": 4,
  "nbformat_minor": 0,
  "metadata": {
    "colab": {
      "provenance": [],
      "authorship_tag": "ABX9TyMT9AqEbezNvnYz2NoIv15X",
      "include_colab_link": true
    },
    "kernelspec": {
      "name": "python3",
      "display_name": "Python 3"
    },
    "language_info": {
      "name": "python"
    }
  },
  "cells": [
    {
      "cell_type": "markdown",
      "metadata": {
        "id": "view-in-github",
        "colab_type": "text"
      },
      "source": [
        "<a href=\"https://colab.research.google.com/github/Shashank1202/Deep_Learning/blob/main/Types_of_Activation_Functions_.ipynb\" target=\"_parent\"><img src=\"https://colab.research.google.com/assets/colab-badge.svg\" alt=\"Open In Colab\"/></a>"
      ]
    },
    {
      "cell_type": "code",
      "source": [
        "import matplotlib.pyplot as plt\n",
        "import numpy as np\n",
        "import tensorflow as tf"
      ],
      "metadata": {
        "id": "trBEI-uVxe6u"
      },
      "execution_count": null,
      "outputs": []
    },
    {
      "cell_type": "markdown",
      "source": [
        "Types of Activatin Function (Low level coding)"
      ],
      "metadata": {
        "id": "DrUnE7E2JyqB"
      }
    },
    {
      "cell_type": "code",
      "source": [
        "from tensorflow.python.framework import ops\n",
        "ops.reset_default_graph()"
      ],
      "metadata": {
        "id": "H5MderhWxjxd"
      },
      "execution_count": null,
      "outputs": []
    },
    {
      "cell_type": "markdown",
      "source": [
        "Disabling tensorflow version 2, Since We need to understand and work on Low Level coding"
      ],
      "metadata": {
        "id": "UEa25yCiJ9cl"
      }
    },
    {
      "cell_type": "code",
      "source": [
        "import tensorflow.compat.v1 as tf\n",
        "tf.disable_v2_behavior()\n",
        "\n",
        "# Your TensorFlow 1.x code using Session goes here\n",
        "sess = tf.Session()\n",
        "# ... Rest of your code using the session\n"
      ],
      "metadata": {
        "colab": {
          "base_uri": "https://localhost:8080/"
        },
        "id": "WekWqXxGxtmv",
        "outputId": "2b9a1dcb-9946-4e09-a4bb-3d81bed1411d"
      },
      "execution_count": null,
      "outputs": [
        {
          "output_type": "stream",
          "name": "stderr",
          "text": [
            "WARNING:tensorflow:From /usr/local/lib/python3.10/dist-packages/tensorflow/python/compat/v2_compat.py:108: disable_resource_variables (from tensorflow.python.ops.variable_scope) is deprecated and will be removed in a future version.\n",
            "Instructions for updating:\n",
            "non-resource variables are not supported in the long term\n"
          ]
        }
      ]
    },
    {
      "cell_type": "code",
      "source": [
        "x_vals=np.linspace(start=-10., stop=10, num=100)"
      ],
      "metadata": {
        "id": "A-CeL2mfxvJu"
      },
      "execution_count": null,
      "outputs": []
    },
    {
      "cell_type": "code",
      "source": [
        "#ReLU activation\n",
        "\n",
        "print(sess.run(tf.nn.relu([-3., 3., 10. ])))\n",
        "y_relu=sess.run(tf.nn.relu(x_vals))"
      ],
      "metadata": {
        "colab": {
          "base_uri": "https://localhost:8080/"
        },
        "id": "RX_RZ7MNyKKC",
        "outputId": "35651446-79a9-4e1d-bb48-f3de5695f158"
      },
      "execution_count": null,
      "outputs": [
        {
          "output_type": "stream",
          "name": "stdout",
          "text": [
            "[ 0.  3. 10.]\n"
          ]
        }
      ]
    },
    {
      "cell_type": "code",
      "source": [
        "#ReLU-6 activation\n",
        "\n",
        "print(sess.run(tf.nn.relu6([-3., 3., 10.])))\n",
        "y_relu6=sess.run(tf.nn.relu6(x_vals))\n",
        "\n"
      ],
      "metadata": {
        "colab": {
          "base_uri": "https://localhost:8080/"
        },
        "id": "A1Hr1OSVyZvc",
        "outputId": "fd22342f-b770-4ca7-bb87-1328c0125c57"
      },
      "execution_count": null,
      "outputs": [
        {
          "output_type": "stream",
          "name": "stdout",
          "text": [
            "[0. 3. 6.]\n"
          ]
        }
      ]
    },
    {
      "cell_type": "code",
      "source": [
        "#Sigmoid activation\n",
        "\n",
        "print(sess.run(tf.nn.sigmoid([-1., 0., 1.])))\n",
        "y_sigmoid=sess.run(tf.nn.sigmoid(x_vals))"
      ],
      "metadata": {
        "colab": {
          "base_uri": "https://localhost:8080/"
        },
        "id": "6Z8b3n7AytF1",
        "outputId": "97729973-0206-4551-d6bc-251e520f5bc2"
      },
      "execution_count": null,
      "outputs": [
        {
          "output_type": "stream",
          "name": "stdout",
          "text": [
            "[0.26894143 0.5        0.7310586 ]\n"
          ]
        }
      ]
    },
    {
      "cell_type": "code",
      "source": [
        "#Hyper Tangent activation\n",
        "\n",
        "print(sess.run(tf.nn.tanh([-1., 0., 1.])))\n",
        "y_tanh=sess.run(tf.nn.tanh(x_vals))"
      ],
      "metadata": {
        "colab": {
          "base_uri": "https://localhost:8080/"
        },
        "id": "nSfpPIDyy8Zh",
        "outputId": "1f1757f1-0340-4b9a-b031-448e290acd4f"
      },
      "execution_count": null,
      "outputs": [
        {
          "output_type": "stream",
          "name": "stdout",
          "text": [
            "[-0.7615942  0.         0.7615942]\n"
          ]
        }
      ]
    },
    {
      "cell_type": "code",
      "source": [
        "#softsign activation\n",
        "\n",
        "print(sess.run(tf.nn.softsign([-1., 0., 1.])))\n",
        "y_softsign=sess.run(tf.tanh(x_vals))"
      ],
      "metadata": {
        "colab": {
          "base_uri": "https://localhost:8080/"
        },
        "id": "5Im_NNV8zX2M",
        "outputId": "a4607b77-dfc6-405a-a8b2-3150f50cb117"
      },
      "execution_count": null,
      "outputs": [
        {
          "output_type": "stream",
          "name": "stdout",
          "text": [
            "[-0.5  0.   0.5]\n"
          ]
        }
      ]
    },
    {
      "cell_type": "code",
      "source": [
        "#SoftPlus activation\n",
        "\n",
        "print(sess.run(tf.nn.softplus([-1., 0., 1.])))\n",
        "y_softplus=sess.run(tf.nn.softplus(x_vals))"
      ],
      "metadata": {
        "colab": {
          "base_uri": "https://localhost:8080/"
        },
        "id": "GCa_HeqLznjT",
        "outputId": "4b69105e-3569-4473-da38-cf1b988738d8"
      },
      "execution_count": null,
      "outputs": [
        {
          "output_type": "stream",
          "name": "stdout",
          "text": [
            "[0.3132617 0.6931472 1.3132616]\n"
          ]
        }
      ]
    },
    {
      "cell_type": "code",
      "source": [
        "#Exponential Linear activation\n",
        "\n",
        "print(sess.run(tf.nn.elu([-1., 0., 1.])))\n",
        "y_elu=sess.run(tf.nn.elu(x_vals))"
      ],
      "metadata": {
        "colab": {
          "base_uri": "https://localhost:8080/"
        },
        "id": "asL5y6hxz69m",
        "outputId": "f85b1534-ef20-4713-e6f4-08c78606f2f5"
      },
      "execution_count": null,
      "outputs": [
        {
          "output_type": "stream",
          "name": "stdout",
          "text": [
            "[-0.63212055  0.          1.        ]\n"
          ]
        }
      ]
    },
    {
      "cell_type": "code",
      "source": [
        "#plot the different functions\n",
        "\n",
        "plt.plot(x_vals,y_softplus, 'r--', label='Softplus', linewidth=2)\n",
        "plt.plot(x_vals,y_relu, 'b:', label='ReLU', linewidth=2)\n",
        "plt.plot(x_vals,y_relu6, 'g-', label='ReLU6', linewidth=2)\n",
        "plt.plot(x_vals,y_elu, 'k-', label='ExpLU', linewidth=0.5)\n",
        "plt.ylim([-1.5, 7])\n",
        "plt.legend(loc='upper left')\n",
        "plt.show()"
      ],
      "metadata": {
        "colab": {
          "base_uri": "https://localhost:8080/",
          "height": 435
        },
        "id": "ThEy80tq0SVB",
        "outputId": "59503e3b-9759-4778-e028-193600de25e2"
      },
      "execution_count": null,
      "outputs": [
        {
          "output_type": "display_data",
          "data": {
            "text/plain": [
              "<Figure size 640x480 with 1 Axes>"
            ],
            "image/png": "[encoded data removed]"
          },
          "metadata": {}
        }
      ]
    },
    {
      "cell_type": "code",
      "source": [
        "#plot the different functions\n",
        "\n",
        "plt.plot(x_vals, y_softplus, 'r--', label='Sigmoid', linewidth=2)\n",
        "plt.plot(x_vals, y_tanh, 'k-', label='Tanh', linewidth=2)\n",
        "plt.plot(x_vals, y_softsign, 'g-', label='Softplus', linewidth=2)\n",
        "plt.ylim([-2, 2])\n",
        "plt.legend(loc='upper left')\n",
        "plt.show()\n"
      ],
      "metadata": {
        "colab": {
          "base_uri": "https://localhost:8080/",
          "height": 435
        },
        "id": "k7swGGvP0ths",
        "outputId": "06eec79e-2f88-4f98-ba9d-2417bd97c4f2"
      },
      "execution_count": null,
      "outputs": [
        {
          "output_type": "display_data",
          "data": {
            "text/plain": [
              "<Figure size 640x480 with 1 Axes>"
            ],
            "image/png": "[encoded data removed]"
          },
          "metadata": {}
        }
      ]
    }
  ]
}