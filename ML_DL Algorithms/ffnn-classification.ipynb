{
 "cells": [
  {
   "cell_type": "code",
   "execution_count": 1,
   "id": "da892cc0",
   "metadata": {
    "_cell_guid": "b1076dfc-b9ad-4769-8c92-a6c4dae69d19",
    "_uuid": "8f2839f25d086af736a60e9eeb907d3b93b6e0e5",
    "execution": {
     "iopub.execute_input": "2024-05-20T18:15:30.776366Z",
     "iopub.status.busy": "2024-05-20T18:15:30.776006Z",
     "iopub.status.idle": "2024-05-20T18:15:31.684280Z",
     "shell.execute_reply": "2024-05-20T18:15:31.683445Z"
    },
    "papermill": {
     "duration": 0.916243,
     "end_time": "2024-05-20T18:15:31.686674",
     "exception": false,
     "start_time": "2024-05-20T18:15:30.770431",
     "status": "completed"
    },
    "tags": []
   },
   "outputs": [],
   "source": [
    "# This Python 3 environment comes with many helpful analytics libraries installed\n",
    "# It is defined by the kaggle/python Docker image: https://github.com/kaggle/docker-python\n",
    "# For example, here's several helpful packages to load\n",
    "\n",
    "import numpy as np # linear algebra\n",
    "import pandas as pd # data processing, CSV file I/O (e.g. pd.read_csv)\n",
    "\n",
    "# Input data files are available in the read-only \"../input/\" directory\n",
    "# For example, running this (by clicking run or pressing Shift+Enter) will list all files under the input directory\n",
    "\n",
    "import os\n",
    "for dirname, _, filenames in os.walk('/kaggle/input'):\n",
    "    for filename in filenames:\n",
    "        print(os.path.join(dirname, filename))\n",
    "\n",
    "# You can write up to 20GB to the current directory (/kaggle/working/) that gets preserved as output when you create a version using \"Save & Run All\" \n",
    "# You can also write temporary files to /kaggle/temp/, but they won't be saved outside of the current session"
   ]
  },
  {
   "cell_type": "code",
   "execution_count": 2,
   "id": "721dabc0",
   "metadata": {
    "execution": {
     "iopub.execute_input": "2024-05-20T18:15:31.696104Z",
     "iopub.status.busy": "2024-05-20T18:15:31.695055Z",
     "iopub.status.idle": "2024-05-20T18:15:45.186826Z",
     "shell.execute_reply": "2024-05-20T18:15:45.185577Z"
    },
    "papermill": {
     "duration": 13.498954,
     "end_time": "2024-05-20T18:15:45.189394",
     "exception": false,
     "start_time": "2024-05-20T18:15:31.690440",
     "status": "completed"
    },
    "tags": []
   },
   "outputs": [
    {
     "name": "stderr",
     "output_type": "stream",
     "text": [
      "2024-05-20 18:15:33.905448: E external/local_xla/xla/stream_executor/cuda/cuda_dnn.cc:9261] Unable to register cuDNN factory: Attempting to register factory for plugin cuDNN when one has already been registered\n",
      "2024-05-20 18:15:33.905707: E external/local_xla/xla/stream_executor/cuda/cuda_fft.cc:607] Unable to register cuFFT factory: Attempting to register factory for plugin cuFFT when one has already been registered\n",
      "2024-05-20 18:15:34.072821: E external/local_xla/xla/stream_executor/cuda/cuda_blas.cc:1515] Unable to register cuBLAS factory: Attempting to register factory for plugin cuBLAS when one has already been registered\n"
     ]
    },
    {
     "name": "stdout",
     "output_type": "stream",
     "text": [
      "Tensorflow version 2.15.0\n"
     ]
    }
   ],
   "source": [
    "import tensorflow as tf\n",
    "print(\"Tensorflow version\", tf.__version__)"
   ]
  },
  {
   "cell_type": "code",
   "execution_count": 3,
   "id": "f1962dd4",
   "metadata": {
    "execution": {
     "iopub.execute_input": "2024-05-20T18:15:45.198737Z",
     "iopub.status.busy": "2024-05-20T18:15:45.198069Z",
     "iopub.status.idle": "2024-05-20T18:15:46.018130Z",
     "shell.execute_reply": "2024-05-20T18:15:46.016992Z"
    },
    "papermill": {
     "duration": 0.827806,
     "end_time": "2024-05-20T18:15:46.021047",
     "exception": false,
     "start_time": "2024-05-20T18:15:45.193241",
     "status": "completed"
    },
    "tags": []
   },
   "outputs": [
    {
     "name": "stdout",
     "output_type": "stream",
     "text": [
      "Downloading data from https://storage.googleapis.com/tensorflow/tf-keras-datasets/mnist.npz\n",
      "\u001b[1m11490434/11490434\u001b[0m \u001b[32m━━━━━━━━━━━━━━━━━━━━\u001b[0m\u001b[37m\u001b[0m \u001b[1m0s\u001b[0m 0us/step\n"
     ]
    }
   ],
   "source": [
    "mnist= tf.keras.datasets.mnist\n",
    "\n",
    "(x_train, y_train), (x_test, y_test)= mnist.load_data()\n",
    "x_train, x_test= x_train/255.0, x_test/255.00"
   ]
  },
  {
   "cell_type": "code",
   "execution_count": 4,
   "id": "d369de80",
   "metadata": {
    "execution": {
     "iopub.execute_input": "2024-05-20T18:15:46.030495Z",
     "iopub.status.busy": "2024-05-20T18:15:46.030107Z",
     "iopub.status.idle": "2024-05-20T18:15:46.110802Z",
     "shell.execute_reply": "2024-05-20T18:15:46.109687Z"
    },
    "papermill": {
     "duration": 0.088254,
     "end_time": "2024-05-20T18:15:46.113224",
     "exception": false,
     "start_time": "2024-05-20T18:15:46.024970",
     "status": "completed"
    },
    "tags": []
   },
   "outputs": [
    {
     "name": "stderr",
     "output_type": "stream",
     "text": [
      "/opt/conda/lib/python3.10/site-packages/keras/src/layers/reshaping/flatten.py:37: UserWarning: Do not pass an `input_shape`/`input_dim` argument to a layer. When using Sequential models, prefer using an `Input(shape)` object as the first layer in the model instead.\n",
      "  super().__init__(**kwargs)\n"
     ]
    }
   ],
   "source": [
    "model=tf.keras.models.Sequential([\n",
    "    tf.keras.layers.Flatten(input_shape=(28, 28)),\n",
    "    tf.keras.layers.Dense(128, activation='relu'),\n",
    "    tf.keras.layers.Dropout(0.2),\n",
    "    tf.keras.layers.Dense(10)\n",
    "])"
   ]
  },
  {
   "cell_type": "code",
   "execution_count": 5,
   "id": "e69e4e11",
   "metadata": {
    "execution": {
     "iopub.execute_input": "2024-05-20T18:15:46.122781Z",
     "iopub.status.busy": "2024-05-20T18:15:46.122379Z",
     "iopub.status.idle": "2024-05-20T18:15:46.151122Z",
     "shell.execute_reply": "2024-05-20T18:15:46.150327Z"
    },
    "papermill": {
     "duration": 0.036091,
     "end_time": "2024-05-20T18:15:46.153286",
     "exception": false,
     "start_time": "2024-05-20T18:15:46.117195",
     "status": "completed"
    },
    "tags": []
   },
   "outputs": [
    {
     "data": {
      "text/plain": [
       "array([[ 0.15842178,  0.33886358, -0.22854984,  0.45926192, -0.08686303,\n",
       "         0.2920981 , -0.9548438 , -0.05489233, -0.31675816,  0.15310672]],\n",
       "      dtype=float32)"
      ]
     },
     "execution_count": 5,
     "metadata": {},
     "output_type": "execute_result"
    }
   ],
   "source": [
    "predictions=model(x_train[:1]).numpy()\n",
    "predictions"
   ]
  },
  {
   "cell_type": "code",
   "execution_count": 6,
   "id": "a70fd5ae",
   "metadata": {
    "execution": {
     "iopub.execute_input": "2024-05-20T18:15:46.163196Z",
     "iopub.status.busy": "2024-05-20T18:15:46.162553Z",
     "iopub.status.idle": "2024-05-20T18:15:46.171958Z",
     "shell.execute_reply": "2024-05-20T18:15:46.170924Z"
    },
    "papermill": {
     "duration": 0.016859,
     "end_time": "2024-05-20T18:15:46.174228",
     "exception": false,
     "start_time": "2024-05-20T18:15:46.157369",
     "status": "completed"
    },
    "tags": []
   },
   "outputs": [
    {
     "data": {
      "text/plain": [
       "array([[0.11228114, 0.13448434, 0.0762513 , 0.15169108, 0.08785793,\n",
       "        0.1283399 , 0.03688262, 0.0907122 , 0.0698134 , 0.11168595]],\n",
       "      dtype=float32)"
      ]
     },
     "execution_count": 6,
     "metadata": {},
     "output_type": "execute_result"
    }
   ],
   "source": [
    "tf.nn.softmax(predictions).numpy()"
   ]
  },
  {
   "cell_type": "code",
   "execution_count": 7,
   "id": "cd8425f9",
   "metadata": {
    "execution": {
     "iopub.execute_input": "2024-05-20T18:15:46.194567Z",
     "iopub.status.busy": "2024-05-20T18:15:46.193614Z",
     "iopub.status.idle": "2024-05-20T18:15:46.199404Z",
     "shell.execute_reply": "2024-05-20T18:15:46.198178Z"
    },
    "papermill": {
     "duration": 0.015707,
     "end_time": "2024-05-20T18:15:46.202205",
     "exception": false,
     "start_time": "2024-05-20T18:15:46.186498",
     "status": "completed"
    },
    "tags": []
   },
   "outputs": [],
   "source": [
    "loss_fn=tf.keras.losses.SparseCategoricalCrossentropy(from_logits=True)\n"
   ]
  },
  {
   "cell_type": "code",
   "execution_count": 8,
   "id": "40575e41",
   "metadata": {
    "execution": {
     "iopub.execute_input": "2024-05-20T18:15:46.212787Z",
     "iopub.status.busy": "2024-05-20T18:15:46.212078Z",
     "iopub.status.idle": "2024-05-20T18:15:46.234396Z",
     "shell.execute_reply": "2024-05-20T18:15:46.233356Z"
    },
    "papermill": {
     "duration": 0.030092,
     "end_time": "2024-05-20T18:15:46.236713",
     "exception": false,
     "start_time": "2024-05-20T18:15:46.206621",
     "status": "completed"
    },
    "tags": []
   },
   "outputs": [
    {
     "data": {
      "text/plain": [
       "2.053073"
      ]
     },
     "execution_count": 8,
     "metadata": {},
     "output_type": "execute_result"
    }
   ],
   "source": [
    "loss_fn(y_train[:1], predictions).numpy()"
   ]
  },
  {
   "cell_type": "code",
   "execution_count": 9,
   "id": "6bcd27ea",
   "metadata": {
    "execution": {
     "iopub.execute_input": "2024-05-20T18:15:46.246856Z",
     "iopub.status.busy": "2024-05-20T18:15:46.246450Z",
     "iopub.status.idle": "2024-05-20T18:15:46.261083Z",
     "shell.execute_reply": "2024-05-20T18:15:46.260007Z"
    },
    "papermill": {
     "duration": 0.022485,
     "end_time": "2024-05-20T18:15:46.263576",
     "exception": false,
     "start_time": "2024-05-20T18:15:46.241091",
     "status": "completed"
    },
    "tags": []
   },
   "outputs": [],
   "source": [
    "model.compile(optimizer='adam',\n",
    "              loss=loss_fn,\n",
    "              metrics=['accuracy']\n",
    "             )"
   ]
  },
  {
   "cell_type": "code",
   "execution_count": 10,
   "id": "c4b4b56d",
   "metadata": {
    "execution": {
     "iopub.execute_input": "2024-05-20T18:15:46.273701Z",
     "iopub.status.busy": "2024-05-20T18:15:46.273321Z",
     "iopub.status.idle": "2024-05-20T18:16:23.012907Z",
     "shell.execute_reply": "2024-05-20T18:16:23.011637Z"
    },
    "papermill": {
     "duration": 36.747348,
     "end_time": "2024-05-20T18:16:23.015255",
     "exception": false,
     "start_time": "2024-05-20T18:15:46.267907",
     "status": "completed"
    },
    "tags": []
   },
   "outputs": [
    {
     "name": "stdout",
     "output_type": "stream",
     "text": [
      "Epoch 1/5\n",
      "\u001b[1m1875/1875\u001b[0m \u001b[32m━━━━━━━━━━━━━━━━━━━━\u001b[0m\u001b[37m\u001b[0m \u001b[1m6s\u001b[0m 3ms/step - accuracy: 0.8572 - loss: 0.4888\n",
      "Epoch 2/5\n",
      "\u001b[1m1875/1875\u001b[0m \u001b[32m━━━━━━━━━━━━━━━━━━━━\u001b[0m\u001b[37m\u001b[0m \u001b[1m10s\u001b[0m 3ms/step - accuracy: 0.9540 - loss: 0.1580\n",
      "Epoch 3/5\n",
      "\u001b[1m1875/1875\u001b[0m \u001b[32m━━━━━━━━━━━━━━━━━━━━\u001b[0m\u001b[37m\u001b[0m \u001b[1m10s\u001b[0m 3ms/step - accuracy: 0.9657 - loss: 0.1125\n",
      "Epoch 4/5\n",
      "\u001b[1m1875/1875\u001b[0m \u001b[32m━━━━━━━━━━━━━━━━━━━━\u001b[0m\u001b[37m\u001b[0m \u001b[1m5s\u001b[0m 3ms/step - accuracy: 0.9752 - loss: 0.0840\n",
      "Epoch 5/5\n",
      "\u001b[1m1875/1875\u001b[0m \u001b[32m━━━━━━━━━━━━━━━━━━━━\u001b[0m\u001b[37m\u001b[0m \u001b[1m5s\u001b[0m 3ms/step - accuracy: 0.9771 - loss: 0.0732\n"
     ]
    },
    {
     "data": {
      "text/plain": [
       "<keras.src.callbacks.history.History at 0x7d7508bfba90>"
      ]
     },
     "execution_count": 10,
     "metadata": {},
     "output_type": "execute_result"
    }
   ],
   "source": [
    "model.fit(x_train, y_train, epochs=5)"
   ]
  },
  {
   "cell_type": "code",
   "execution_count": null,
   "id": "a256011f",
   "metadata": {
    "papermill": {
     "duration": 0.036349,
     "end_time": "2024-05-20T18:16:23.088476",
     "exception": false,
     "start_time": "2024-05-20T18:16:23.052127",
     "status": "completed"
    },
    "tags": []
   },
   "outputs": [],
   "source": []
  }
 ],
 "metadata": {
  "kaggle": {
   "accelerator": "none",
   "dataSources": [],
   "dockerImageVersionId": 30698,
   "isGpuEnabled": false,
   "isInternetEnabled": true,
   "language": "python",
   "sourceType": "notebook"
  },
  "kernelspec": {
   "display_name": "Python 3",
   "language": "python",
   "name": "python3"
  },
  "language_info": {
   "codemirror_mode": {
    "name": "ipython",
    "version": 3
   },
   "file_extension": ".py",
   "mimetype": "text/x-python",
   "name": "python",
   "nbconvert_exporter": "python",
   "pygments_lexer": "ipython3",
   "version": "3.10.13"
  },
  "papermill": {
   "default_parameters": {},
   "duration": 56.595246,
   "end_time": "2024-05-20T18:16:24.550247",
   "environment_variables": {},
   "exception": null,
   "input_path": "__notebook__.ipynb",
   "output_path": "__notebook__.ipynb",
   "parameters": {},
   "start_time": "2024-05-20T18:15:27.955001",
   "version": "2.5.0"
  }
 },
 "nbformat": 4,
 "nbformat_minor": 5
}
