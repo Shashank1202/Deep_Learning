{
 "cells": [
  {
   "cell_type": "code",
   "execution_count": 1,
   "id": "66541102",
   "metadata": {
    "_cell_guid": "b1076dfc-b9ad-4769-8c92-a6c4dae69d19",
    "_uuid": "8f2839f25d086af736a60e9eeb907d3b93b6e0e5",
    "execution": {
     "iopub.execute_input": "2024-05-27T15:07:17.093835Z",
     "iopub.status.busy": "2024-05-27T15:07:17.093430Z",
     "iopub.status.idle": "2024-05-27T15:07:18.082099Z",
     "shell.execute_reply": "2024-05-27T15:07:18.080692Z"
    },
    "papermill": {
     "duration": 0.997841,
     "end_time": "2024-05-27T15:07:18.084970",
     "exception": false,
     "start_time": "2024-05-27T15:07:17.087129",
     "status": "completed"
    },
    "tags": []
   },
   "outputs": [],
   "source": [
    "# This Python 3 environment comes with many helpful analytics libraries installed\n",
    "# It is defined by the kaggle/python Docker image: https://github.com/kaggle/docker-python\n",
    "# For example, here's several helpful packages to load\n",
    "\n",
    "import numpy as np # linear algebra\n",
    "import pandas as pd # data processing, CSV file I/O (e.g. pd.read_csv)\n",
    "\n",
    "# Input data files are available in the read-only \"../input/\" directory\n",
    "# For example, running this (by clicking run or pressing Shift+Enter) will list all files under the input directory\n",
    "\n",
    "import os\n",
    "for dirname, _, filenames in os.walk('/kaggle/input'):\n",
    "    for filename in filenames:\n",
    "        print(os.path.join(dirname, filename))\n",
    "\n",
    "# You can write up to 20GB to the current directory (/kaggle/working/) that gets preserved as output when you create a version using \"Save & Run All\" \n",
    "# You can also write temporary files to /kaggle/temp/, but they won't be saved outside of the current session"
   ]
  },
  {
   "cell_type": "code",
   "execution_count": 2,
   "id": "033d3cb4",
   "metadata": {
    "execution": {
     "iopub.execute_input": "2024-05-27T15:07:18.095809Z",
     "iopub.status.busy": "2024-05-27T15:07:18.095291Z",
     "iopub.status.idle": "2024-05-27T15:07:25.270589Z",
     "shell.execute_reply": "2024-05-27T15:07:25.269314Z"
    },
    "papermill": {
     "duration": 7.183736,
     "end_time": "2024-05-27T15:07:25.273437",
     "exception": false,
     "start_time": "2024-05-27T15:07:18.089701",
     "status": "completed"
    },
    "tags": []
   },
   "outputs": [],
   "source": [
    "import torch\n",
    "from torch import nn \n",
    "import torch.nn.functional as F\n",
    "import torchvision.transforms as transforms\n",
    "from torch import optim\n",
    "import torchvision.datasets as datasets\n",
    "from torch.utils.data import DataLoader\n",
    "from tqdm import tqdm"
   ]
  },
  {
   "cell_type": "code",
   "execution_count": 3,
   "id": "e0587310",
   "metadata": {
    "execution": {
     "iopub.execute_input": "2024-05-27T15:07:25.284816Z",
     "iopub.status.busy": "2024-05-27T15:07:25.283424Z",
     "iopub.status.idle": "2024-05-27T15:07:25.289222Z",
     "shell.execute_reply": "2024-05-27T15:07:25.288038Z"
    },
    "papermill": {
     "duration": 0.013691,
     "end_time": "2024-05-27T15:07:25.291598",
     "exception": false,
     "start_time": "2024-05-27T15:07:25.277907",
     "status": "completed"
    },
    "tags": []
   },
   "outputs": [],
   "source": [
    "device= \"cuda\" if torch.cuda.is_available() else \"cpu\""
   ]
  },
  {
   "cell_type": "code",
   "execution_count": 4,
   "id": "87049176",
   "metadata": {
    "execution": {
     "iopub.execute_input": "2024-05-27T15:07:25.301869Z",
     "iopub.status.busy": "2024-05-27T15:07:25.301305Z",
     "iopub.status.idle": "2024-05-27T15:07:25.308880Z",
     "shell.execute_reply": "2024-05-27T15:07:25.307677Z"
    },
    "papermill": {
     "duration": 0.015507,
     "end_time": "2024-05-27T15:07:25.311463",
     "exception": false,
     "start_time": "2024-05-27T15:07:25.295956",
     "status": "completed"
    },
    "tags": []
   },
   "outputs": [],
   "source": [
    "input_size= 28\n",
    "sequence_length= 28\n",
    "num_layers= 2\n",
    "hidden_size= 256\n",
    "num_classes= 10\n",
    "learning_rate= 0.001\n",
    "batch_size= 64\n",
    "num_epochs= 3"
   ]
  },
  {
   "cell_type": "code",
   "execution_count": 5,
   "id": "65cd3fc9",
   "metadata": {
    "execution": {
     "iopub.execute_input": "2024-05-27T15:07:25.322533Z",
     "iopub.status.busy": "2024-05-27T15:07:25.321801Z",
     "iopub.status.idle": "2024-05-27T15:07:25.331009Z",
     "shell.execute_reply": "2024-05-27T15:07:25.329857Z"
    },
    "papermill": {
     "duration": 0.017512,
     "end_time": "2024-05-27T15:07:25.333522",
     "exception": false,
     "start_time": "2024-05-27T15:07:25.316010",
     "status": "completed"
    },
    "tags": []
   },
   "outputs": [],
   "source": [
    "class RNN(nn.Module):\n",
    "    def __init__(self, input_size, hidden_size, num_layers, num_classes):\n",
    "        super(RNN, self).__init__()\n",
    "        self.hidden_size= hidden_size\n",
    "        self.num_layers= num_layers\n",
    "        self.rnn= nn.RNN(input_size, hidden_size, num_layers, batch_first= True)\n",
    "        self.fc= nn.Linear(hidden_size * sequence_length, num_classes)\n",
    "        \n",
    "    \n",
    "    def forward(self, x):\n",
    "        h0= torch.zeros(self.num_layers, x.size(0), self.hidden_size).to(device)\n",
    "        \n",
    "        out, _= self.rnn(x, h0)\n",
    "        out= out.reshape(out.shape[0], -1)\n",
    "        out= self.fc(out)\n",
    "        return out"
   ]
  },
  {
   "cell_type": "code",
   "execution_count": 6,
   "id": "e5b04a5d",
   "metadata": {
    "execution": {
     "iopub.execute_input": "2024-05-27T15:07:25.344657Z",
     "iopub.status.busy": "2024-05-27T15:07:25.343551Z",
     "iopub.status.idle": "2024-05-27T15:07:27.324658Z",
     "shell.execute_reply": "2024-05-27T15:07:27.323493Z"
    },
    "papermill": {
     "duration": 1.989452,
     "end_time": "2024-05-27T15:07:27.327415",
     "exception": false,
     "start_time": "2024-05-27T15:07:25.337963",
     "status": "completed"
    },
    "tags": []
   },
   "outputs": [
    {
     "name": "stdout",
     "output_type": "stream",
     "text": [
      "Downloading http://yann.lecun.com/exdb/mnist/train-images-idx3-ubyte.gz\n",
      "Failed to download (trying next):\n",
      "HTTP Error 403: Forbidden\n",
      "\n",
      "Downloading https://ossci-datasets.s3.amazonaws.com/mnist/train-images-idx3-ubyte.gz\n",
      "Downloading https://ossci-datasets.s3.amazonaws.com/mnist/train-images-idx3-ubyte.gz to dataset/MNIST/raw/train-images-idx3-ubyte.gz\n"
     ]
    },
    {
     "name": "stderr",
     "output_type": "stream",
     "text": [
      "100%|██████████| 9912422/9912422 [00:00<00:00, 53528523.48it/s]\n"
     ]
    },
    {
     "name": "stdout",
     "output_type": "stream",
     "text": [
      "Extracting dataset/MNIST/raw/train-images-idx3-ubyte.gz to dataset/MNIST/raw\n",
      "\n",
      "Downloading http://yann.lecun.com/exdb/mnist/train-labels-idx1-ubyte.gz\n",
      "Failed to download (trying next):\n",
      "HTTP Error 403: Forbidden\n",
      "\n",
      "Downloading https://ossci-datasets.s3.amazonaws.com/mnist/train-labels-idx1-ubyte.gz\n",
      "Downloading https://ossci-datasets.s3.amazonaws.com/mnist/train-labels-idx1-ubyte.gz to dataset/MNIST/raw/train-labels-idx1-ubyte.gz\n"
     ]
    },
    {
     "name": "stderr",
     "output_type": "stream",
     "text": [
      "100%|██████████| 28881/28881 [00:00<00:00, 1564454.27it/s]\n"
     ]
    },
    {
     "name": "stdout",
     "output_type": "stream",
     "text": [
      "Extracting dataset/MNIST/raw/train-labels-idx1-ubyte.gz to dataset/MNIST/raw\n",
      "\n",
      "Downloading http://yann.lecun.com/exdb/mnist/t10k-images-idx3-ubyte.gz\n",
      "Failed to download (trying next):\n",
      "HTTP Error 403: Forbidden\n",
      "\n",
      "Downloading https://ossci-datasets.s3.amazonaws.com/mnist/t10k-images-idx3-ubyte.gz\n",
      "Downloading https://ossci-datasets.s3.amazonaws.com/mnist/t10k-images-idx3-ubyte.gz to dataset/MNIST/raw/t10k-images-idx3-ubyte.gz\n"
     ]
    },
    {
     "name": "stderr",
     "output_type": "stream",
     "text": [
      "100%|██████████| 1648877/1648877 [00:00<00:00, 11861046.24it/s]\n"
     ]
    },
    {
     "name": "stdout",
     "output_type": "stream",
     "text": [
      "Extracting dataset/MNIST/raw/t10k-images-idx3-ubyte.gz to dataset/MNIST/raw\n",
      "\n",
      "Downloading http://yann.lecun.com/exdb/mnist/t10k-labels-idx1-ubyte.gz\n",
      "Failed to download (trying next):\n",
      "HTTP Error 403: Forbidden\n",
      "\n",
      "Downloading https://ossci-datasets.s3.amazonaws.com/mnist/t10k-labels-idx1-ubyte.gz\n",
      "Downloading https://ossci-datasets.s3.amazonaws.com/mnist/t10k-labels-idx1-ubyte.gz to dataset/MNIST/raw/t10k-labels-idx1-ubyte.gz\n"
     ]
    },
    {
     "name": "stderr",
     "output_type": "stream",
     "text": [
      "100%|██████████| 4542/4542 [00:00<00:00, 1890120.92it/s]"
     ]
    },
    {
     "name": "stdout",
     "output_type": "stream",
     "text": [
      "Extracting dataset/MNIST/raw/t10k-labels-idx1-ubyte.gz to dataset/MNIST/raw\n",
      "\n"
     ]
    },
    {
     "name": "stderr",
     "output_type": "stream",
     "text": [
      "\n"
     ]
    }
   ],
   "source": [
    "# Load Data\n",
    "train_dataset = datasets.MNIST(\n",
    "    root=\"dataset/\", train=True, transform=transforms.ToTensor(), download=True\n",
    ")\n",
    "test_dataset = datasets.MNIST(\n",
    "    root=\"dataset/\", train=False, transform=transforms.ToTensor(), download=True\n",
    ")\n",
    "train_loader = DataLoader(dataset=train_dataset, batch_size=batch_size, shuffle=True)\n",
    "test_loader = DataLoader(dataset=test_dataset, batch_size=batch_size, shuffle=True)\n",
    "\n",
    "# Initialize network (try out just using simple RNN, or GRU, and then compare with LSTM)\n",
    "model = RNN(input_size, hidden_size, num_layers, num_classes).to(device)\n",
    "\n",
    "# Loss and optimizer\n",
    "criterion = nn.CrossEntropyLoss()\n",
    "optimizer = optim.Adam(model.parameters(), lr=learning_rate)\n"
   ]
  },
  {
   "cell_type": "code",
   "execution_count": 7,
   "id": "4e3351d7",
   "metadata": {
    "execution": {
     "iopub.execute_input": "2024-05-27T15:07:27.342045Z",
     "iopub.status.busy": "2024-05-27T15:07:27.341648Z",
     "iopub.status.idle": "2024-05-27T15:09:37.826270Z",
     "shell.execute_reply": "2024-05-27T15:09:37.824755Z"
    },
    "papermill": {
     "duration": 130.496012,
     "end_time": "2024-05-27T15:09:37.829796",
     "exception": false,
     "start_time": "2024-05-27T15:07:27.333784",
     "status": "completed"
    },
    "tags": []
   },
   "outputs": [],
   "source": [
    "for epoch in range(num_epochs):\n",
    "    for batch_idx, (data, targets) in enumerate(train_loader):\n",
    "        # Get data to cuda if possible\n",
    "        data = data.to(device=device).squeeze(1)\n",
    "        targets = targets.to(device=device)\n",
    "\n",
    "        # forward\n",
    "        scores = model(data)\n",
    "        loss = criterion(scores, targets)\n",
    "\n",
    "        # backward\n",
    "        optimizer.zero_grad()\n",
    "        loss.backward()\n",
    "\n",
    "        # gradient descent update step/adam step\n",
    "        optimizer.step()"
   ]
  },
  {
   "cell_type": "code",
   "execution_count": 8,
   "id": "39c2b9ff",
   "metadata": {
    "execution": {
     "iopub.execute_input": "2024-05-27T15:09:37.845470Z",
     "iopub.status.busy": "2024-05-27T15:09:37.845074Z",
     "iopub.status.idle": "2024-05-27T15:09:37.854856Z",
     "shell.execute_reply": "2024-05-27T15:09:37.853386Z"
    },
    "papermill": {
     "duration": 0.02097,
     "end_time": "2024-05-27T15:09:37.857676",
     "exception": false,
     "start_time": "2024-05-27T15:09:37.836706",
     "status": "completed"
    },
    "tags": []
   },
   "outputs": [],
   "source": [
    "def check_accuracy(loader, model):\n",
    "    if loader.dataset.train:\n",
    "        print(\"Checking accuracy on training data\")\n",
    "    else:\n",
    "        print(\"Checking accuracy on test data\")\n",
    "    \n",
    "    num_correct=0\n",
    "    num_samples=0\n",
    "    model.eval()\n",
    "    \n",
    "    with torch.no_grad():\n",
    "        for x, y in loader:\n",
    "            x= x.to(device= device).squeeze(1)\n",
    "            y= y.to(device= device)\n",
    "            \n",
    "            scores= model(x)\n",
    "            _, predictions= scores.max(1)\n",
    "            num_correct +=(predictions==y).sum()\n",
    "            num_samples += predictions.size(0)\n",
    "            \n",
    "        print(f'Got{num_correct}/{num_samples} with accuracy:{float(num_correct)/float(num_samples)*100:.2f}')\n",
    "        \n",
    "    model.train()"
   ]
  },
  {
   "cell_type": "code",
   "execution_count": 9,
   "id": "1d6d7197",
   "metadata": {
    "execution": {
     "iopub.execute_input": "2024-05-27T15:09:37.872315Z",
     "iopub.status.busy": "2024-05-27T15:09:37.871943Z",
     "iopub.status.idle": "2024-05-27T15:10:00.426941Z",
     "shell.execute_reply": "2024-05-27T15:10:00.425276Z"
    },
    "papermill": {
     "duration": 22.566368,
     "end_time": "2024-05-27T15:10:00.430557",
     "exception": false,
     "start_time": "2024-05-27T15:09:37.864189",
     "status": "completed"
    },
    "tags": []
   },
   "outputs": [
    {
     "name": "stdout",
     "output_type": "stream",
     "text": [
      "Checking accuracy on training data\n",
      "Got58483/60000 with accuracy:97.47\n",
      "Checking accuracy on test data\n",
      "Got9693/10000 with accuracy:96.93\n"
     ]
    }
   ],
   "source": [
    "check_accuracy(train_loader, model)\n",
    "check_accuracy(test_loader, model)"
   ]
  },
  {
   "cell_type": "code",
   "execution_count": null,
   "id": "410860a3",
   "metadata": {
    "papermill": {
     "duration": 0.006886,
     "end_time": "2024-05-27T15:10:00.444881",
     "exception": false,
     "start_time": "2024-05-27T15:10:00.437995",
     "status": "completed"
    },
    "tags": []
   },
   "outputs": [],
   "source": []
  }
 ],
 "metadata": {
  "kaggle": {
   "accelerator": "none",
   "dataSources": [],
   "dockerImageVersionId": 30698,
   "isGpuEnabled": false,
   "isInternetEnabled": true,
   "language": "python",
   "sourceType": "notebook"
  },
  "kernelspec": {
   "display_name": "Python 3",
   "language": "python",
   "name": "python3"
  },
  "language_info": {
   "codemirror_mode": {
    "name": "ipython",
    "version": 3
   },
   "file_extension": ".py",
   "mimetype": "text/x-python",
   "name": "python",
   "nbconvert_exporter": "python",
   "pygments_lexer": "ipython3",
   "version": "3.10.13"
  },
  "papermill": {
   "default_parameters": {},
   "duration": 167.955902,
   "end_time": "2024-05-27T15:10:01.879524",
   "environment_variables": {},
   "exception": null,
   "input_path": "__notebook__.ipynb",
   "output_path": "__notebook__.ipynb",
   "parameters": {},
   "start_time": "2024-05-27T15:07:13.923622",
   "version": "2.5.0"
  }
 },
 "nbformat": 4,
 "nbformat_minor": 5
}
