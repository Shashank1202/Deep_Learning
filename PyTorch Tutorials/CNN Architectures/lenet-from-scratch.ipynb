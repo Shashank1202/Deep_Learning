{
 "cells": [
  {
   "cell_type": "markdown",
   "id": "3790f069",
   "metadata": {
    "papermill": {
     "duration": 0.007575,
     "end_time": "2024-06-04T13:58:19.384107",
     "exception": false,
     "start_time": "2024-06-04T13:58:19.376532",
     "status": "completed"
    },
    "tags": []
   },
   "source": [
    "# Let's Implement LeNet Architecture from scratch using PyTorch Library"
   ]
  },
  {
   "cell_type": "markdown",
   "id": "725a9599",
   "metadata": {
    "papermill": {
     "duration": 0.006017,
     "end_time": "2024-06-04T13:58:19.396711",
     "exception": false,
     "start_time": "2024-06-04T13:58:19.390694",
     "status": "completed"
    },
    "tags": []
   },
   "source": [
    "Importing the Libraries"
   ]
  },
  {
   "cell_type": "code",
   "execution_count": 1,
   "id": "4a4f066b",
   "metadata": {
    "execution": {
     "iopub.execute_input": "2024-06-04T13:58:19.411952Z",
     "iopub.status.busy": "2024-06-04T13:58:19.411457Z",
     "iopub.status.idle": "2024-06-04T13:58:25.207522Z",
     "shell.execute_reply": "2024-06-04T13:58:25.205627Z"
    },
    "papermill": {
     "duration": 5.808093,
     "end_time": "2024-06-04T13:58:25.211644",
     "exception": false,
     "start_time": "2024-06-04T13:58:19.403551",
     "status": "completed"
    },
    "tags": []
   },
   "outputs": [],
   "source": [
    "import torch\n",
    "import torch.nn as nn\n",
    "import torchvision.transforms as transforms\n",
    "import torchvision.datasets as datasets\n",
    "from torch.utils.data import DataLoader\n",
    "from tqdm import tqdm\n",
    "from torch import optim\n",
    "import torch.nn.functional as F"
   ]
  },
  {
   "cell_type": "markdown",
   "id": "59752c53",
   "metadata": {
    "papermill": {
     "duration": 0.006423,
     "end_time": "2024-06-04T13:58:25.225081",
     "exception": false,
     "start_time": "2024-06-04T13:58:25.218658",
     "status": "completed"
    },
    "tags": []
   },
   "source": [
    "# Main Focus:: Building LeNet Model"
   ]
  },
  {
   "cell_type": "code",
   "execution_count": 2,
   "id": "6b4c41ae",
   "metadata": {
    "execution": {
     "iopub.execute_input": "2024-06-04T13:58:25.241375Z",
     "iopub.status.busy": "2024-06-04T13:58:25.239760Z",
     "iopub.status.idle": "2024-06-04T13:58:25.252774Z",
     "shell.execute_reply": "2024-06-04T13:58:25.251585Z"
    },
    "papermill": {
     "duration": 0.023535,
     "end_time": "2024-06-04T13:58:25.255309",
     "exception": false,
     "start_time": "2024-06-04T13:58:25.231774",
     "status": "completed"
    },
    "tags": []
   },
   "outputs": [],
   "source": [
    "class LeNet(nn.Module):\n",
    "    def __init__(self):\n",
    "        super(LeNet, self).__init__()\n",
    "        self.relu= nn.ReLU()\n",
    "        self.pool= nn.AvgPool2d(kernel_size= (2, 2), stride=(2, 2))\n",
    "        self.conv1=nn.Conv2d(in_channels=1, out_channels= 6, kernel_size=(5, 5), stride=(1, 1), padding=(0, 0))\n",
    "        self.conv2=nn.Conv2d(in_channels=6, out_channels= 16, kernel_size=(5, 5), stride=(1, 1), padding=(0, 0))\n",
    "        self.conv3=nn.Conv2d(in_channels=16, out_channels= 120, kernel_size=(5, 5), stride=(1, 1), padding=(0, 0))\n",
    "        self.linear1=nn.Linear(120, 84)\n",
    "        self.linear2=nn.Linear(84, 10)\n",
    "    \n",
    "    def forward(self, x):\n",
    "        x= self.relu(self.conv1(x))\n",
    "        x= self.pool(x)\n",
    "        x= self.relu(self.conv2(x))\n",
    "        x= self.pool(x)\n",
    "        x= self.relu(self.conv3(x))\n",
    "        x= x.reshape(x.shape[0], -1)\n",
    "        x= self.relu(self.linear1(x))\n",
    "        x= self.linear2(x)\n",
    "        return x"
   ]
  },
  {
   "cell_type": "markdown",
   "id": "5cc8465d",
   "metadata": {
    "papermill": {
     "duration": 0.008127,
     "end_time": "2024-06-04T13:58:25.272680",
     "exception": false,
     "start_time": "2024-06-04T13:58:25.264553",
     "status": "completed"
    },
    "tags": []
   },
   "source": [
    "# Adding Device"
   ]
  },
  {
   "cell_type": "code",
   "execution_count": 3,
   "id": "3b9250de",
   "metadata": {
    "execution": {
     "iopub.execute_input": "2024-06-04T13:58:25.290032Z",
     "iopub.status.busy": "2024-06-04T13:58:25.289609Z",
     "iopub.status.idle": "2024-06-04T13:58:25.297800Z",
     "shell.execute_reply": "2024-06-04T13:58:25.295941Z"
    },
    "papermill": {
     "duration": 0.021065,
     "end_time": "2024-06-04T13:58:25.301323",
     "exception": false,
     "start_time": "2024-06-04T13:58:25.280258",
     "status": "completed"
    },
    "tags": []
   },
   "outputs": [],
   "source": [
    "device= torch.device(\"cuda\" if torch.cuda.is_available() else \"cpu\")"
   ]
  },
  {
   "cell_type": "markdown",
   "id": "d8d6c753",
   "metadata": {
    "papermill": {
     "duration": 0.009873,
     "end_time": "2024-06-04T13:58:25.320749",
     "exception": false,
     "start_time": "2024-06-04T13:58:25.310876",
     "status": "completed"
    },
    "tags": []
   },
   "source": [
    "# Hyperparameter"
   ]
  },
  {
   "cell_type": "code",
   "execution_count": 4,
   "id": "90ac39b6",
   "metadata": {
    "execution": {
     "iopub.execute_input": "2024-06-04T13:58:25.341946Z",
     "iopub.status.busy": "2024-06-04T13:58:25.341414Z",
     "iopub.status.idle": "2024-06-04T13:58:25.346794Z",
     "shell.execute_reply": "2024-06-04T13:58:25.345719Z"
    },
    "papermill": {
     "duration": 0.019867,
     "end_time": "2024-06-04T13:58:25.349970",
     "exception": false,
     "start_time": "2024-06-04T13:58:25.330103",
     "status": "completed"
    },
    "tags": []
   },
   "outputs": [],
   "source": [
    "in_channels= 1\n",
    "num_classes= 10\n",
    "learning_rate= 0.1\n",
    "batch_size= 64\n",
    "num_epochs= 3"
   ]
  },
  {
   "cell_type": "markdown",
   "id": "0f8a205a",
   "metadata": {
    "papermill": {
     "duration": 0.006496,
     "end_time": "2024-06-04T13:58:25.363404",
     "exception": false,
     "start_time": "2024-06-04T13:58:25.356908",
     "status": "completed"
    },
    "tags": []
   },
   "source": [
    "# Since LeNet takes 32X32 input size, but MNIST is just 28X28 size, So Let's work on padding the MNIST Dataset"
   ]
  },
  {
   "cell_type": "code",
   "execution_count": 5,
   "id": "22c93986",
   "metadata": {
    "execution": {
     "iopub.execute_input": "2024-06-04T13:58:25.378630Z",
     "iopub.status.busy": "2024-06-04T13:58:25.378220Z",
     "iopub.status.idle": "2024-06-04T13:58:25.383740Z",
     "shell.execute_reply": "2024-06-04T13:58:25.382571Z"
    },
    "papermill": {
     "duration": 0.016155,
     "end_time": "2024-06-04T13:58:25.386242",
     "exception": false,
     "start_time": "2024-06-04T13:58:25.370087",
     "status": "completed"
    },
    "tags": []
   },
   "outputs": [],
   "source": [
    "transform= transforms.Compose([\n",
    "    transforms.Pad(2),\n",
    "    transforms.ToTensor()\n",
    "])"
   ]
  },
  {
   "cell_type": "markdown",
   "id": "ee2482eb",
   "metadata": {
    "papermill": {
     "duration": 0.006438,
     "end_time": "2024-06-04T13:58:25.400208",
     "exception": false,
     "start_time": "2024-06-04T13:58:25.393770",
     "status": "completed"
    },
    "tags": []
   },
   "source": [
    "# Importing datasets and initializing the dataset"
   ]
  },
  {
   "cell_type": "code",
   "execution_count": 6,
   "id": "7bde3ea3",
   "metadata": {
    "execution": {
     "iopub.execute_input": "2024-06-04T13:58:25.415424Z",
     "iopub.status.busy": "2024-06-04T13:58:25.415018Z",
     "iopub.status.idle": "2024-06-04T13:58:30.744969Z",
     "shell.execute_reply": "2024-06-04T13:58:30.743754Z"
    },
    "papermill": {
     "duration": 5.341807,
     "end_time": "2024-06-04T13:58:30.748753",
     "exception": false,
     "start_time": "2024-06-04T13:58:25.406946",
     "status": "completed"
    },
    "tags": []
   },
   "outputs": [
    {
     "name": "stdout",
     "output_type": "stream",
     "text": [
      "Downloading http://yann.lecun.com/exdb/mnist/train-images-idx3-ubyte.gz\n",
      "Failed to download (trying next):\n",
      "HTTP Error 403: Forbidden\n",
      "\n",
      "Downloading https://ossci-datasets.s3.amazonaws.com/mnist/train-images-idx3-ubyte.gz\n",
      "Downloading https://ossci-datasets.s3.amazonaws.com/mnist/train-images-idx3-ubyte.gz to dataset/MNIST/raw/train-images-idx3-ubyte.gz\n"
     ]
    },
    {
     "name": "stderr",
     "output_type": "stream",
     "text": [
      "100%|██████████| 9912422/9912422 [00:00<00:00, 10397967.42it/s]\n"
     ]
    },
    {
     "name": "stdout",
     "output_type": "stream",
     "text": [
      "Extracting dataset/MNIST/raw/train-images-idx3-ubyte.gz to dataset/MNIST/raw\n",
      "\n",
      "Downloading http://yann.lecun.com/exdb/mnist/train-labels-idx1-ubyte.gz\n",
      "Failed to download (trying next):\n",
      "HTTP Error 403: Forbidden\n",
      "\n",
      "Downloading https://ossci-datasets.s3.amazonaws.com/mnist/train-labels-idx1-ubyte.gz\n",
      "Downloading https://ossci-datasets.s3.amazonaws.com/mnist/train-labels-idx1-ubyte.gz to dataset/MNIST/raw/train-labels-idx1-ubyte.gz\n"
     ]
    },
    {
     "name": "stderr",
     "output_type": "stream",
     "text": [
      "100%|██████████| 28881/28881 [00:00<00:00, 339735.34it/s]\n"
     ]
    },
    {
     "name": "stdout",
     "output_type": "stream",
     "text": [
      "Extracting dataset/MNIST/raw/train-labels-idx1-ubyte.gz to dataset/MNIST/raw\n",
      "\n",
      "Downloading http://yann.lecun.com/exdb/mnist/t10k-images-idx3-ubyte.gz\n",
      "Failed to download (trying next):\n",
      "HTTP Error 403: Forbidden\n",
      "\n",
      "Downloading https://ossci-datasets.s3.amazonaws.com/mnist/t10k-images-idx3-ubyte.gz\n",
      "Downloading https://ossci-datasets.s3.amazonaws.com/mnist/t10k-images-idx3-ubyte.gz to dataset/MNIST/raw/t10k-images-idx3-ubyte.gz\n"
     ]
    },
    {
     "name": "stderr",
     "output_type": "stream",
     "text": [
      "100%|██████████| 1648877/1648877 [00:00<00:00, 3192319.20it/s]\n"
     ]
    },
    {
     "name": "stdout",
     "output_type": "stream",
     "text": [
      "Extracting dataset/MNIST/raw/t10k-images-idx3-ubyte.gz to dataset/MNIST/raw\n",
      "\n",
      "Downloading http://yann.lecun.com/exdb/mnist/t10k-labels-idx1-ubyte.gz\n",
      "Failed to download (trying next):\n",
      "HTTP Error 403: Forbidden\n",
      "\n",
      "Downloading https://ossci-datasets.s3.amazonaws.com/mnist/t10k-labels-idx1-ubyte.gz\n",
      "Downloading https://ossci-datasets.s3.amazonaws.com/mnist/t10k-labels-idx1-ubyte.gz to dataset/MNIST/raw/t10k-labels-idx1-ubyte.gz\n"
     ]
    },
    {
     "name": "stderr",
     "output_type": "stream",
     "text": [
      "100%|██████████| 4542/4542 [00:00<00:00, 1895763.63it/s]"
     ]
    },
    {
     "name": "stdout",
     "output_type": "stream",
     "text": [
      "Extracting dataset/MNIST/raw/t10k-labels-idx1-ubyte.gz to dataset/MNIST/raw\n",
      "\n"
     ]
    },
    {
     "name": "stderr",
     "output_type": "stream",
     "text": [
      "\n"
     ]
    }
   ],
   "source": [
    "train_dataset= datasets.MNIST(root=\"dataset/\", train=True, transform=transform, download= True)\n",
    "test_dataset= datasets.MNIST(root=\"dataset/\", train=False, transform= transform, download= True)\n",
    "\n",
    "train_loader= DataLoader(dataset= train_dataset, batch_size= batch_size, shuffle= True)\n",
    "test_loader= DataLoader(dataset= test_dataset, batch_size= batch_size, shuffle= True)"
   ]
  },
  {
   "cell_type": "markdown",
   "id": "854b7254",
   "metadata": {
    "papermill": {
     "duration": 0.009555,
     "end_time": "2024-06-04T13:58:30.768276",
     "exception": false,
     "start_time": "2024-06-04T13:58:30.758721",
     "status": "completed"
    },
    "tags": []
   },
   "source": [
    "# Model"
   ]
  },
  {
   "cell_type": "code",
   "execution_count": 7,
   "id": "d889ebef",
   "metadata": {
    "execution": {
     "iopub.execute_input": "2024-06-04T13:58:30.789922Z",
     "iopub.status.busy": "2024-06-04T13:58:30.789508Z",
     "iopub.status.idle": "2024-06-04T13:58:30.814366Z",
     "shell.execute_reply": "2024-06-04T13:58:30.813129Z"
    },
    "papermill": {
     "duration": 0.039017,
     "end_time": "2024-06-04T13:58:30.817160",
     "exception": false,
     "start_time": "2024-06-04T13:58:30.778143",
     "status": "completed"
    },
    "tags": []
   },
   "outputs": [],
   "source": [
    "model= LeNet().to(device)"
   ]
  },
  {
   "cell_type": "markdown",
   "id": "8f9909c8",
   "metadata": {
    "papermill": {
     "duration": 0.009664,
     "end_time": "2024-06-04T13:58:30.837001",
     "exception": false,
     "start_time": "2024-06-04T13:58:30.827337",
     "status": "completed"
    },
    "tags": []
   },
   "source": [
    "# Loss Functions and Activation Functions"
   ]
  },
  {
   "cell_type": "code",
   "execution_count": 8,
   "id": "2df3cfb1",
   "metadata": {
    "execution": {
     "iopub.execute_input": "2024-06-04T13:58:30.858577Z",
     "iopub.status.busy": "2024-06-04T13:58:30.858202Z",
     "iopub.status.idle": "2024-06-04T13:58:30.864384Z",
     "shell.execute_reply": "2024-06-04T13:58:30.863171Z"
    },
    "papermill": {
     "duration": 0.019842,
     "end_time": "2024-06-04T13:58:30.866814",
     "exception": false,
     "start_time": "2024-06-04T13:58:30.846972",
     "status": "completed"
    },
    "tags": []
   },
   "outputs": [],
   "source": [
    "criterion= nn.CrossEntropyLoss()\n",
    "optimizer= optim.Adam(model.parameters(), lr= learning_rate)"
   ]
  },
  {
   "cell_type": "markdown",
   "id": "35092dd7",
   "metadata": {
    "papermill": {
     "duration": 0.009639,
     "end_time": "2024-06-04T13:58:30.887315",
     "exception": false,
     "start_time": "2024-06-04T13:58:30.877676",
     "status": "completed"
    },
    "tags": []
   },
   "source": [
    "# Let's Train the network"
   ]
  },
  {
   "cell_type": "code",
   "execution_count": 9,
   "id": "9c0505c6",
   "metadata": {
    "execution": {
     "iopub.execute_input": "2024-06-04T13:58:30.908898Z",
     "iopub.status.busy": "2024-06-04T13:58:30.908487Z",
     "iopub.status.idle": "2024-06-04T13:59:38.283736Z",
     "shell.execute_reply": "2024-06-04T13:59:38.282294Z"
    },
    "papermill": {
     "duration": 67.389436,
     "end_time": "2024-06-04T13:59:38.286669",
     "exception": false,
     "start_time": "2024-06-04T13:58:30.897233",
     "status": "completed"
    },
    "tags": []
   },
   "outputs": [
    {
     "name": "stderr",
     "output_type": "stream",
     "text": [
      "100%|██████████| 938/938 [00:22<00:00, 41.46it/s]\n",
      "100%|██████████| 938/938 [00:22<00:00, 42.25it/s]\n",
      "100%|██████████| 938/938 [00:22<00:00, 41.63it/s]\n"
     ]
    }
   ],
   "source": [
    "#train network\n",
    "\n",
    "for epoch in range(num_epochs):\n",
    "    for batch_idx, (data, targets) in enumerate(tqdm(train_loader)):\n",
    "        data= data.to(device= device)\n",
    "        targets= targets.to(device= device)\n",
    "        \n",
    "        scores= model(data)\n",
    "        loss= criterion(scores, targets)\n",
    "        \n",
    "        optimizer.zero_grad()\n",
    "        loss.backward()\n",
    "        \n",
    "        optimizer.step()\n",
    "    "
   ]
  },
  {
   "cell_type": "markdown",
   "id": "a5cb2306",
   "metadata": {
    "papermill": {
     "duration": 0.063672,
     "end_time": "2024-06-04T13:59:38.414128",
     "exception": false,
     "start_time": "2024-06-04T13:59:38.350456",
     "status": "completed"
    },
    "tags": []
   },
   "source": [
    "# Checking the Accuracy "
   ]
  },
  {
   "cell_type": "code",
   "execution_count": 10,
   "id": "d2661fa3",
   "metadata": {
    "execution": {
     "iopub.execute_input": "2024-06-04T13:59:38.543759Z",
     "iopub.status.busy": "2024-06-04T13:59:38.543343Z",
     "iopub.status.idle": "2024-06-04T13:59:38.550984Z",
     "shell.execute_reply": "2024-06-04T13:59:38.549905Z"
    },
    "papermill": {
     "duration": 0.075216,
     "end_time": "2024-06-04T13:59:38.553251",
     "exception": false,
     "start_time": "2024-06-04T13:59:38.478035",
     "status": "completed"
    },
    "tags": []
   },
   "outputs": [],
   "source": [
    "#Check accuracy on training & Test to see how good our model\n",
    "\n",
    "def check_accuracy(loader, model):\n",
    "    num_correct= 0\n",
    "    num_samples= 0\n",
    "    model.eval()\n",
    "    \n",
    "    with torch.no_grad():\n",
    "        for x, y in loader:\n",
    "            x= x.to(device= device)\n",
    "            y= y.to(device= device)\n",
    "            \n",
    "            scores= model(x)\n",
    "            _, predictions= scores.max(1)\n",
    "            num_correct += (predictions==y).sum()\n",
    "            num_samples += predictions.size(0)\n",
    "            \n",
    "    model.train()\n",
    "    return num_correct/num_samples"
   ]
  },
  {
   "cell_type": "markdown",
   "id": "5c282860",
   "metadata": {
    "papermill": {
     "duration": 0.062634,
     "end_time": "2024-06-04T13:59:38.678612",
     "exception": false,
     "start_time": "2024-06-04T13:59:38.615978",
     "status": "completed"
    },
    "tags": []
   },
   "source": [
    "# Printing the Accuracy"
   ]
  },
  {
   "cell_type": "code",
   "execution_count": 11,
   "id": "dc985ec0",
   "metadata": {
    "execution": {
     "iopub.execute_input": "2024-06-04T13:59:38.805567Z",
     "iopub.status.busy": "2024-06-04T13:59:38.805110Z",
     "iopub.status.idle": "2024-06-04T13:59:54.420671Z",
     "shell.execute_reply": "2024-06-04T13:59:54.419549Z"
    },
    "papermill": {
     "duration": 15.68188,
     "end_time": "2024-06-04T13:59:54.423128",
     "exception": false,
     "start_time": "2024-06-04T13:59:38.741248",
     "status": "completed"
    },
    "tags": []
   },
   "outputs": [
    {
     "name": "stdout",
     "output_type": "stream",
     "text": [
      " Accuracy on training set: 9.74\n",
      " Accuracy on test set: 9.82\n"
     ]
    }
   ],
   "source": [
    "print(f\" Accuracy on training set: {check_accuracy(train_loader, model)*100:.2f}\")\n",
    "print(f\" Accuracy on test set: {check_accuracy(test_loader, model)*100:.2f}\")"
   ]
  },
  {
   "cell_type": "code",
   "execution_count": null,
   "id": "5ace1f85",
   "metadata": {
    "papermill": {
     "duration": 0.063031,
     "end_time": "2024-06-04T13:59:54.551822",
     "exception": false,
     "start_time": "2024-06-04T13:59:54.488791",
     "status": "completed"
    },
    "tags": []
   },
   "outputs": [],
   "source": []
  }
 ],
 "metadata": {
  "kaggle": {
   "accelerator": "none",
   "dataSources": [],
   "dockerImageVersionId": 30715,
   "isGpuEnabled": false,
   "isInternetEnabled": true,
   "language": "python",
   "sourceType": "notebook"
  },
  "kernelspec": {
   "display_name": "Python 3",
   "language": "python",
   "name": "python3"
  },
  "language_info": {
   "codemirror_mode": {
    "name": "ipython",
    "version": 3
   },
   "file_extension": ".py",
   "mimetype": "text/x-python",
   "name": "python",
   "nbconvert_exporter": "python",
   "pygments_lexer": "ipython3",
   "version": "3.10.13"
  },
  "papermill": {
   "default_parameters": {},
   "duration": 99.699929,
   "end_time": "2024-06-04T13:59:55.805378",
   "environment_variables": {},
   "exception": null,
   "input_path": "__notebook__.ipynb",
   "output_path": "__notebook__.ipynb",
   "parameters": {},
   "start_time": "2024-06-04T13:58:16.105449",
   "version": "2.5.0"
  }
 },
 "nbformat": 4,
 "nbformat_minor": 5
}
