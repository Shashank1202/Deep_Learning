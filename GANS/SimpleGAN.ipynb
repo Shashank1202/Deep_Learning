{
  "nbformat": 4,
  "nbformat_minor": 0,
  "metadata": {
    "colab": {
      "provenance": [],
      "gpuType": "T4",
      "authorship_tag": "ABX9TyOqafZwTF1tlPLp5R++btyx",
      "include_colab_link": true
    },
    "kernelspec": {
      "name": "python3",
      "display_name": "Python 3"
    },
    "language_info": {
      "name": "python"
    },
    "accelerator": "GPU"
  },
  "cells": [
    {
      "cell_type": "markdown",
      "metadata": {
        "id": "view-in-github",
        "colab_type": "text"
      },
      "source": [
        "<a href=\"https://colab.research.google.com/github/Shashank1202/Deep_Learning/blob/main/GANS/SimpleGAN.ipynb\" target=\"_parent\"><img src=\"https://colab.research.google.com/assets/colab-badge.svg\" alt=\"Open In Colab\"/></a>"
      ]
    },
    {
      "cell_type": "markdown",
      "source": [
        "**SIMPLE GAN ARCHITECTURE**"
      ],
      "metadata": {
        "id": "q-UitY1lqk8S"
      }
    },
    {
      "cell_type": "markdown",
      "source": [
        "![simpleGan.jpg](data:image/jpeg;base64,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)"
      ],
      "metadata": {
        "id": "dOSJHjvGqVFb"
      }
    },
    {
      "cell_type": "markdown",
      "source": [
        "Importing the Libraries"
      ],
      "metadata": {
        "id": "TCzV3z8mpE6y"
      }
    },
    {
      "cell_type": "code",
      "execution_count": 1,
      "metadata": {
        "id": "h-5ey8OSo51r"
      },
      "outputs": [],
      "source": [
        "import torch\n",
        "import torch.nn as nn\n",
        "import torch.optim as optim\n",
        "import torchvision\n",
        "from torch.utils.data import DataLoader\n",
        "import torchvision.datasets as datasets\n",
        "import torchvision.transforms as transforms\n",
        "from torch.utils.tensorboard import SummaryWriter"
      ]
    },
    {
      "cell_type": "markdown",
      "source": [
        "Building Simple Discriminator Model"
      ],
      "metadata": {
        "id": "yhUJxsxzpNWd"
      }
    },
    {
      "cell_type": "code",
      "source": [
        "class Discriminator(nn.Module):\n",
        "    def __init__(self, img_dim):\n",
        "        super().__init__()\n",
        "        self.disc= nn.Sequential(\n",
        "            nn.Linear(img_dim, 128),\n",
        "            nn.LeakyReLU(0.1),\n",
        "            nn.Linear(128, 1),\n",
        "            nn.Sigmoid(),\n",
        "        )\n",
        "\n",
        "    def forward(self, x):\n",
        "        return self.disc(x)"
      ],
      "metadata": {
        "id": "oR1bnB_ypKSx"
      },
      "execution_count": 2,
      "outputs": []
    },
    {
      "cell_type": "markdown",
      "source": [
        "Building simple Generator Model"
      ],
      "metadata": {
        "id": "1bt5WLJ4pTDg"
      }
    },
    {
      "cell_type": "code",
      "source": [
        "class Generator(nn.Module):\n",
        "    def __init__(self, z_dim, img_dim):\n",
        "        super().__init__()\n",
        "        self.gen= nn.Sequential(\n",
        "            nn.Linear(z_dim, 128),\n",
        "            nn.LeakyReLU(0.2),\n",
        "            nn.Linear(128, img_dim),\n",
        "            nn.Tanh(),\n",
        "        )\n",
        "\n",
        "    def forward(self, x):\n",
        "        return self.gen(x)"
      ],
      "metadata": {
        "id": "LIJlX7C_pR7F"
      },
      "execution_count": 3,
      "outputs": []
    },
    {
      "cell_type": "markdown",
      "source": [
        "Device settings"
      ],
      "metadata": {
        "id": "DQMcyeCopaIV"
      }
    },
    {
      "cell_type": "code",
      "source": [
        "device= 'cuda' if torch.cuda.is_available() else 'cpu'"
      ],
      "metadata": {
        "id": "3ytBdhAvpYDq"
      },
      "execution_count": 4,
      "outputs": []
    },
    {
      "cell_type": "markdown",
      "source": [
        "Hyper Parameter"
      ],
      "metadata": {
        "id": "QAUuQjJrpf1V"
      }
    },
    {
      "cell_type": "code",
      "source": [
        "# Hyperparameter\n",
        "\n",
        "lr= 3e-4\n",
        "z_dim= 64\n",
        "img_dim= 28*28*1\n",
        "batch_size=32\n",
        "num_epochs= 50\n",
        "\n",
        "disc= Discriminator(img_dim).to(device)\n",
        "gen= Generator(z_dim,img_dim).to(device)\n",
        "fixed_noise= torch.randn((batch_size, z_dim)).to(device)\n",
        "transform= transforms.Compose(\n",
        "        [transforms.ToTensor(), transforms.Normalize((0.5,), (0.5,))]\n",
        "    )"
      ],
      "metadata": {
        "id": "kw_PzJ2lpdxm"
      },
      "execution_count": 5,
      "outputs": []
    },
    {
      "cell_type": "markdown",
      "source": [
        "Loading Datasets"
      ],
      "metadata": {
        "id": "h32zBJHDpopf"
      }
    },
    {
      "cell_type": "code",
      "source": [
        "dataset= datasets.MNIST(root= 'dataset/', transform=transform, download= True)\n",
        "loader= DataLoader(dataset, batch_size=batch_size, shuffle= True)\n",
        "opt_disc= optim.Adam(disc.parameters(), lr= lr)\n",
        "opt_gen= optim.Adam(gen.parameters(), lr= lr)\n",
        "criterion= nn.BCELoss()"
      ],
      "metadata": {
        "colab": {
          "base_uri": "https://localhost:8080/"
        },
        "id": "KN-hBjBLpmjj",
        "outputId": "22019989-1ef2-42e0-dbd8-2ebcbab7b916"
      },
      "execution_count": 6,
      "outputs": [
        {
          "output_type": "stream",
          "name": "stdout",
          "text": [
            "Downloading http://yann.lecun.com/exdb/mnist/train-images-idx3-ubyte.gz\n",
            "Failed to download (trying next):\n",
            "HTTP Error 403: Forbidden\n",
            "\n",
            "Downloading https://ossci-datasets.s3.amazonaws.com/mnist/train-images-idx3-ubyte.gz\n",
            "Downloading https://ossci-datasets.s3.amazonaws.com/mnist/train-images-idx3-ubyte.gz to dataset/MNIST/raw/train-images-idx3-ubyte.gz\n"
          ]
        },
        {
          "output_type": "stream",
          "name": "stderr",
          "text": [
            "100%|██████████| 9912422/9912422 [00:01<00:00, 5100635.22it/s]\n"
          ]
        },
        {
          "output_type": "stream",
          "name": "stdout",
          "text": [
            "Extracting dataset/MNIST/raw/train-images-idx3-ubyte.gz to dataset/MNIST/raw\n",
            "\n",
            "Downloading http://yann.lecun.com/exdb/mnist/train-labels-idx1-ubyte.gz\n",
            "Failed to download (trying next):\n",
            "HTTP Error 403: Forbidden\n",
            "\n",
            "Downloading https://ossci-datasets.s3.amazonaws.com/mnist/train-labels-idx1-ubyte.gz\n",
            "Downloading https://ossci-datasets.s3.amazonaws.com/mnist/train-labels-idx1-ubyte.gz to dataset/MNIST/raw/train-labels-idx1-ubyte.gz\n"
          ]
        },
        {
          "output_type": "stream",
          "name": "stderr",
          "text": [
            "100%|██████████| 28881/28881 [00:00<00:00, 133945.43it/s]\n"
          ]
        },
        {
          "output_type": "stream",
          "name": "stdout",
          "text": [
            "Extracting dataset/MNIST/raw/train-labels-idx1-ubyte.gz to dataset/MNIST/raw\n",
            "\n",
            "Downloading http://yann.lecun.com/exdb/mnist/t10k-images-idx3-ubyte.gz\n",
            "Failed to download (trying next):\n",
            "HTTP Error 403: Forbidden\n",
            "\n",
            "Downloading https://ossci-datasets.s3.amazonaws.com/mnist/t10k-images-idx3-ubyte.gz\n",
            "Downloading https://ossci-datasets.s3.amazonaws.com/mnist/t10k-images-idx3-ubyte.gz to dataset/MNIST/raw/t10k-images-idx3-ubyte.gz\n"
          ]
        },
        {
          "output_type": "stream",
          "name": "stderr",
          "text": [
            "100%|██████████| 1648877/1648877 [00:01<00:00, 1243765.81it/s]\n"
          ]
        },
        {
          "output_type": "stream",
          "name": "stdout",
          "text": [
            "Extracting dataset/MNIST/raw/t10k-images-idx3-ubyte.gz to dataset/MNIST/raw\n",
            "\n",
            "Downloading http://yann.lecun.com/exdb/mnist/t10k-labels-idx1-ubyte.gz\n",
            "Failed to download (trying next):\n",
            "HTTP Error 403: Forbidden\n",
            "\n",
            "Downloading https://ossci-datasets.s3.amazonaws.com/mnist/t10k-labels-idx1-ubyte.gz\n",
            "Downloading https://ossci-datasets.s3.amazonaws.com/mnist/t10k-labels-idx1-ubyte.gz to dataset/MNIST/raw/t10k-labels-idx1-ubyte.gz\n"
          ]
        },
        {
          "output_type": "stream",
          "name": "stderr",
          "text": [
            "100%|██████████| 4542/4542 [00:00<00:00, 11069453.09it/s]"
          ]
        },
        {
          "output_type": "stream",
          "name": "stdout",
          "text": [
            "Extracting dataset/MNIST/raw/t10k-labels-idx1-ubyte.gz to dataset/MNIST/raw\n",
            "\n"
          ]
        },
        {
          "output_type": "stream",
          "name": "stderr",
          "text": [
            "\n"
          ]
        }
      ]
    },
    {
      "cell_type": "markdown",
      "source": [
        "Let's Train the Model"
      ],
      "metadata": {
        "id": "5FJkyD7Sp4xm"
      }
    },
    {
      "cell_type": "code",
      "source": [
        "writer_fake= SummaryWriter(f\"runs/GAN_MNIST/fake\")\n",
        "writer_real= SummaryWriter(f\"runs/GANS_MNIST/real\")\n",
        "step= 0\n",
        "\n",
        "for epoch in range(num_epochs):\n",
        "    for batch_idx, (real, _) in enumerate(loader):\n",
        "        real= real.view(-1, 784).to(device)\n",
        "        batch_size= real.shape[0]\n",
        "\n",
        "        #Train Discriminator: max log(D(real)) + log(1- D(g(z)))\n",
        "        noise= torch.randn(batch_size, z_dim).to(device)\n",
        "        fake= gen(noise)\n",
        "        disc_real= disc(real).view(-1)\n",
        "        lossD_real= criterion(disc_real, torch.ones_like(disc_real))\n",
        "        disc_fake= disc(fake).view(-1)\n",
        "        lossD_fake= criterion(disc_fake, torch.zeros_like(disc_fake))\n",
        "        lossD= (lossD_real + lossD_fake)/2\n",
        "        disc.zero_grad()\n",
        "        lossD.backward(retain_graph= True)\n",
        "        opt_disc.step()\n",
        "\n",
        "        #Train Generator: min log(1- D(G(z))) <--> max log(D(G(z)))\n",
        "        output= disc(fake).view(-1)\n",
        "        lossG= criterion(output, torch.ones_like(output))\n",
        "        gen.zero_grad()\n",
        "        lossG.backward()\n",
        "        opt_gen.step()\n",
        "\n",
        "        if batch_idx==0:\n",
        "            print(\n",
        "                f\"Epoch [{epoch}/{num_epochs}]\"\n",
        "                f\"Loss D: {lossD:.4f}, Loss G: {lossG:.4f}\"\n",
        "            )\n",
        "\n",
        "            with torch.no_grad():\n",
        "                fake= gen(fixed_noise).reshape(-1, 1, 28, 28)\n",
        "                data= real.reshape(-1, 1, 28, 28)\n",
        "                img_grid_fake= torchvision.utils.make_grid(fake, normalize= True)\n",
        "                img_grid_real= torchvision.utils.make_grid(data, normalize= True)\n",
        "\n",
        "                writer_fake.add_image(\n",
        "                    \"Mnist Fake Images\", img_grid_fake, global_step= step\n",
        "                )\n",
        "\n",
        "                writer_real.add_image(\n",
        "                    \"Mnist Real Images\", img_grid_real, global_step= step\n",
        "                )\n",
        "                step+=1"
      ],
      "metadata": {
        "colab": {
          "base_uri": "https://localhost:8080/"
        },
        "id": "loQQaezYpvtM",
        "outputId": "c6b50d55-f457-4064-b466-39f523707600"
      },
      "execution_count": 7,
      "outputs": [
        {
          "output_type": "stream",
          "name": "stdout",
          "text": [
            "Epoch [0/50]Loss D: 0.7019, Loss G: 0.7288\n",
            "Epoch [1/50]Loss D: 0.4445, Loss G: 1.0525\n",
            "Epoch [2/50]Loss D: 0.7217, Loss G: 0.8980\n",
            "Epoch [3/50]Loss D: 0.7577, Loss G: 0.7928\n",
            "Epoch [4/50]Loss D: 0.5215, Loss G: 0.9308\n",
            "Epoch [5/50]Loss D: 0.7112, Loss G: 0.8378\n",
            "Epoch [6/50]Loss D: 0.4957, Loss G: 0.9949\n",
            "Epoch [7/50]Loss D: 0.4488, Loss G: 1.0809\n",
            "Epoch [8/50]Loss D: 0.7963, Loss G: 0.9367\n",
            "Epoch [9/50]Loss D: 0.4734, Loss G: 1.3624\n",
            "Epoch [10/50]Loss D: 0.4173, Loss G: 1.3552\n",
            "Epoch [11/50]Loss D: 0.4856, Loss G: 1.2974\n",
            "Epoch [12/50]Loss D: 0.4930, Loss G: 1.0677\n",
            "Epoch [13/50]Loss D: 0.5117, Loss G: 1.1389\n",
            "Epoch [14/50]Loss D: 0.6809, Loss G: 0.9810\n",
            "Epoch [15/50]Loss D: 0.7527, Loss G: 0.9198\n",
            "Epoch [16/50]Loss D: 0.6760, Loss G: 1.2028\n",
            "Epoch [17/50]Loss D: 0.8863, Loss G: 0.7780\n",
            "Epoch [18/50]Loss D: 0.8306, Loss G: 0.8340\n",
            "Epoch [19/50]Loss D: 0.7301, Loss G: 0.9769\n",
            "Epoch [20/50]Loss D: 0.3711, Loss G: 1.4144\n",
            "Epoch [21/50]Loss D: 0.5437, Loss G: 1.1766\n",
            "Epoch [22/50]Loss D: 0.5407, Loss G: 1.2196\n",
            "Epoch [23/50]Loss D: 0.6805, Loss G: 1.0786\n",
            "Epoch [24/50]Loss D: 0.5283, Loss G: 1.1468\n",
            "Epoch [25/50]Loss D: 0.5608, Loss G: 1.0626\n",
            "Epoch [26/50]Loss D: 0.8099, Loss G: 0.7526\n",
            "Epoch [27/50]Loss D: 0.7005, Loss G: 1.0129\n",
            "Epoch [28/50]Loss D: 0.4548, Loss G: 1.6241\n",
            "Epoch [29/50]Loss D: 0.4490, Loss G: 1.6251\n",
            "Epoch [30/50]Loss D: 0.4671, Loss G: 1.1219\n",
            "Epoch [31/50]Loss D: 0.6535, Loss G: 1.2018\n",
            "Epoch [32/50]Loss D: 0.7115, Loss G: 0.9907\n",
            "Epoch [33/50]Loss D: 0.7948, Loss G: 0.7569\n",
            "Epoch [34/50]Loss D: 0.5721, Loss G: 1.4582\n",
            "Epoch [35/50]Loss D: 0.5514, Loss G: 1.0488\n",
            "Epoch [36/50]Loss D: 0.6937, Loss G: 1.0423\n",
            "Epoch [37/50]Loss D: 0.5808, Loss G: 1.1113\n",
            "Epoch [38/50]Loss D: 0.6808, Loss G: 1.2041\n",
            "Epoch [39/50]Loss D: 0.6761, Loss G: 0.7550\n",
            "Epoch [40/50]Loss D: 0.5959, Loss G: 0.9945\n",
            "Epoch [41/50]Loss D: 0.6405, Loss G: 0.8642\n",
            "Epoch [42/50]Loss D: 0.5280, Loss G: 1.1293\n",
            "Epoch [43/50]Loss D: 0.5199, Loss G: 1.2319\n",
            "Epoch [44/50]Loss D: 0.5504, Loss G: 1.0513\n",
            "Epoch [45/50]Loss D: 0.4698, Loss G: 1.1152\n",
            "Epoch [46/50]Loss D: 0.6519, Loss G: 1.2130\n",
            "Epoch [47/50]Loss D: 0.5625, Loss G: 1.3506\n",
            "Epoch [48/50]Loss D: 0.6354, Loss G: 0.9855\n",
            "Epoch [49/50]Loss D: 0.6016, Loss G: 0.9621\n"
          ]
        }
      ]
    },
    {
      "cell_type": "markdown",
      "source": [
        "Visualization of Real and Fake Image"
      ],
      "metadata": {
        "id": "jry3HXcXp_Ag"
      }
    },
    {
      "cell_type": "code",
      "source": [
        "import matplotlib.pyplot as plt\n",
        "import numpy as np\n",
        "\n",
        "# Define a function to display images in a grid\n",
        "def display_images(images, title, img_shape=(28, 28)):\n",
        "    fig, axes = plt.subplots(1, len(images), figsize=(15, 5))\n",
        "    fig.suptitle(title)\n",
        "    for i, img in enumerate(images):\n",
        "        img = img.detach().cpu().numpy().reshape(img_shape)  # Move the tensor to CPU, convert to NumPy array, and reshape\n",
        "        axes[i].imshow(img, cmap='gray')\n",
        "        axes[i].axis('off')\n",
        "\n",
        "# Assume `fake` and `real` are the batches of generated and real images\n",
        "batch_size = len(fake)\n",
        "idx = np.random.choice(batch_size, size=5, replace=False)  # Select random indices to display\n",
        "\n",
        "# Display the selected images\n",
        "display_images(fake[idx], title='Generated Images')\n",
        "display_images(real[idx], title='Original Images')\n",
        "plt.show()"
      ],
      "metadata": {
        "colab": {
          "base_uri": "https://localhost:8080/",
          "height": 412
        },
        "id": "X_fz_pkDp8WN",
        "outputId": "b74d58a9-05da-4307-9acf-78c380f42c83"
      },
      "execution_count": 8,
      "outputs": [
        {
          "output_type": "display_data",
          "data": {
            "text/plain": [
              "<Figure size 1500x500 with 5 Axes>"
            ],
            "image/png": "[encoded data removed]"
          },
          "metadata": {}
        },
        {
          "output_type": "display_data",
          "data": {
            "text/plain": [
              "<Figure size 1500x500 with 5 Axes>"
            ],
            "image/png": "[encoded data removed]"
          },
          "metadata": {}
        }
      ]
    },
    {
      "cell_type": "markdown",
      "source": [
        "# Just played with 50 epochs try with more epochs for great accuracy!!!"
      ],
      "metadata": {
        "id": "y8p_1Ti6rQXe"
      }
    },
    {
      "cell_type": "code",
      "source": [],
      "metadata": {
        "id": "e76lhBTRrjKX"
      },
      "execution_count": null,
      "outputs": []
    }
  ]
}